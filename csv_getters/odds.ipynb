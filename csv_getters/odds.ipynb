{
 "cells": [
  {
   "cell_type": "code",
   "execution_count": null,
   "metadata": {},
   "outputs": [],
   "source": [
    "from webdriver_manager.chrome import ChromeDriverManager\n",
    "from bs4 import BeautifulSoup as soup\n",
    "from selenium.webdriver.chrome.options import Options\n",
    "from selenium import webdriver\n",
    "import pandas as pd\n",
    "from nba_api.stats.static import teams \n",
    "import time\n",
    "from datetime import datetime, timedelta"
   ]
  },
  {
   "cell_type": "code",
   "execution_count": null,
   "metadata": {},
   "outputs": [],
   "source": [
    "months = dict(Jan=1,Feb=2,Mar=3,Apr=4,May=5,Jun=6,Jul=7,Aug=8,Sep=9,Oct=10,Nov=11,Dec=12)"
   ]
  },
  {
   "cell_type": "code",
   "execution_count": null,
   "metadata": {},
   "outputs": [],
   "source": [
    "def get_betting_odds(season):\n",
    "    nba_teams = teams.get_teams()\n",
    "    base_url = \"https://www.oddsportal.com/basketball/usa/nba-{}/results/\".format(season)\n",
    "    option = Options()\n",
    "    option.headless = True\n",
    "    driver = webdriver.Chrome(ChromeDriverManager().install(), options=option)\n",
    "    driver.get(base_url)\n",
    "    time.sleep(5)\n",
    "    button = driver.find_element_by_xpath('/html/body/div[1]/div/div[2]/div[6]/div[1]/div/div[1]/div[2]/div[1]/div[6]/div/a[14]')\n",
    "    button.click()\n",
    "    time.sleep(2)\n",
    "    \n",
    "    element = driver.find_elements_by_id(\"tournamentTable\")[0]\n",
    "    htmlContent = element.get_attribute('outerHTML')\n",
    "    page_soup = soup(htmlContent, \"html.parser\")\n",
    "    active_page = int(''.join(page_soup.find('span', {\"class\": \"active-page\"}).findAll(text=True)))\n",
    "    print('Page', active_page)\n",
    "    \n",
    "    games = []\n",
    "    \n",
    "    while int(active_page) >= 1:\n",
    "        dates = page_soup.findAll('tr', {\"class\": \"center nob-border\"})\n",
    "        games_registered = 0\n",
    "        \n",
    "        for i in range(len(dates), 0, -1):\n",
    "            if len(dates) == i:\n",
    "                date_games = dates[i-1].find_next_siblings('tr', {\"class\": \"deactivate\"})\n",
    "            else:\n",
    "                date_games = dates[i-1].find_next_siblings('tr', {\"class\": \"deactivate\"})[:-1*games_registered]\n",
    "            games_registered += len(date_games)\n",
    "            date_info_splitted = dates[i-1].contents[0].text.split('-')\n",
    "            if len(date_info_splitted) > 1:\n",
    "                continue\n",
    "            date_text = date_info_splitted[0].strip()\n",
    "            # print(date_text)\n",
    "            games_parsed = [[datetime(int(date_text.split(' ')[2]), \n",
    "                                                months[date_text.split(' ')[1]], \n",
    "                                                int(date_text.split(' ')[0]), \n",
    "                                                hour=int(g.contents[0].text.strip().split(':')[0]), \n",
    "                                                minute=int(g.contents[0].text.strip().split(':')[1]), \n",
    "                                                second=0) - timedelta(hours=3, minutes=0), # Substracting 3 hours to align with the nba api timezone\n",
    "                                  # \"{} - {}\".format(date_text, g.contents[0].text.strip()),\n",
    "                                  next(filter(lambda x: x['full_name'] == g.contents[1].text.split('-')[0].strip(), nba_teams))['id'], # Team A Id\n",
    "                                  next(filter(lambda x: x['full_name'] == g.contents[1].text.split('-')[1].strip(), nba_teams))['id'], # Team B Id\n",
    "                                  g.contents[1].text.split('-')[0].strip(), # Team A Name\n",
    "                                  g.contents[1].text.split('-')[1].strip(), # Team B Name\n",
    "                                  g.contents[2].text.split(':')[0].strip(), # Team A Pts\n",
    "                                  g.contents[2].text.split(':')[1].replace('OT', '').strip(), # Team B Pts\n",
    "                                  g.contents[3].text,  # Team A Odds\n",
    "                                  g.contents[4].text] # Team B Odds\n",
    "                                  for g in date_games if len(g.contents[2].text.split(':')) > 1]\n",
    "            games.extend(games_parsed)\n",
    "            # print('{} Games appended'.format(len(games_parsed)))\n",
    "        \n",
    "        btn_next_page = driver.find_element_by_xpath('/html/body/div[1]/div/div[2]/div[6]/div[1]/div/div[1]/div[2]/div[1]/div[6]/div/a[2]')\n",
    "        btn_next_page.click()\n",
    "        time.sleep(4)\n",
    "        \n",
    "        element = driver.find_elements_by_id(\"tournamentTable\")[0]\n",
    "        htmlContent = element.get_attribute('outerHTML')\n",
    "        page_soup = soup(htmlContent, \"html.parser\")\n",
    "        active_page -= 1\n",
    "        # active_page = ''.join(page_soup.find('span', {\"class\": \"active-page\"}).findAll(text=True))\n",
    "        print('Page', active_page)\n",
    "    \n",
    "    driver.quit()\n",
    "    return games\n",
    "    "
   ]
  },
  {
   "cell_type": "code",
   "execution_count": null,
   "metadata": {},
   "outputs": [],
   "source": [
    "season = 2008\n",
    "games = []\n",
    "while season < 2021:\n",
    "    print('Getting odds for season {}-{}...'.format(season, season + 1))\n",
    "    games.extend(get_betting_odds('{}-{}'.format(season,season+1)))\n",
    "    season += 1\n",
    "\n",
    "odds_df = pd.DataFrame(games, columns=['GAME_DATE', 'TEAM_A_ID', 'TEAM_B_ID', 'TEAM_A', 'TEAM_B', 'TEAM_A_PTS', 'TEAM_B_PTS', 'TEAM_A_ODDS', 'TEAM_B_ODDS'])\n",
    "odds_df.to_csv('../data/odds.csv')\n",
    "print(len(games))"
   ]
  }
 ],
 "metadata": {
  "kernelspec": {
   "display_name": "Python 3",
   "language": "python",
   "name": "python3"
  },
  "language_info": {
   "codemirror_mode": {
    "name": "ipython",
    "version": 3
   },
   "file_extension": ".py",
   "mimetype": "text/x-python",
   "name": "python",
   "nbconvert_exporter": "python",
   "pygments_lexer": "ipython3",
   "version": "3.8.5"
  }
 },
 "nbformat": 4,
 "nbformat_minor": 2
}
