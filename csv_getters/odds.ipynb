{
 "cells": [
  {
   "cell_type": "code",
   "execution_count": 1,
   "metadata": {},
   "outputs": [],
   "source": [
    "from webdriver_manager.chrome import ChromeDriverManager\n",
    "from bs4 import BeautifulSoup as soup\n",
    "from selenium.webdriver.chrome.options import Options\n",
    "from selenium import webdriver\n",
    "import pandas as pd\n",
    "from nba_api.stats.static import teams \n",
    "import time\n",
    "from datetime import datetime, timedelta"
   ]
  },
  {
   "cell_type": "code",
   "execution_count": 2,
   "metadata": {},
   "outputs": [],
   "source": [
    "months = dict(Jan=1,Feb=2,Mar=3,Apr=4,May=5,Jun=6,Jul=7,Aug=8,Sep=9,Oct=10,Nov=11,Dec=12)"
   ]
  },
  {
   "cell_type": "code",
   "execution_count": 3,
   "metadata": {},
   "outputs": [],
   "source": [
    "def get_betting_odds(season):\n",
    "    nba_teams = teams.get_teams()\n",
    "    base_url = \"https://www.oddsportal.com/basketball/usa/nba{}/results/\".format(season)\n",
    "    option = Options()\n",
    "#     option.headless = True\n",
    "    driver = webdriver.Chrome(ChromeDriverManager().install(), options=option)\n",
    "    driver.get(base_url)\n",
    "    time.sleep(5)\n",
    "    button = driver.find_element_by_xpath('/html/body/div[3]/div[3]/div/div[1]/div/div[2]/div/button[1]')\n",
    "    button.click()\n",
    "    button = driver.find_element_by_xpath('/html/body/div[1]/div/div[2]/div[6]/div[1]/div/div[1]/div[2]/div[1]/div[6]/div/a[14]')\n",
    "    button.click()\n",
    "    time.sleep(2)\n",
    "    \n",
    "    element = driver.find_elements_by_id(\"tournamentTable\")[0]\n",
    "    htmlContent = element.get_attribute('outerHTML')\n",
    "    page_soup = soup(htmlContent, \"html.parser\")\n",
    "    active_page = int(''.join(page_soup.find('span', {\"class\": \"active-page\"}).findAll(text=True)))\n",
    "    print('Page', active_page)\n",
    "    \n",
    "    games = []\n",
    "    \n",
    "    while int(active_page) >= 1:\n",
    "        dates = page_soup.findAll('tr', {\"class\": \"center nob-border\"})\n",
    "        games_registered = 0\n",
    "        \n",
    "        for i in range(len(dates), 0, -1):\n",
    "            try:\n",
    "                if len(dates) == i:\n",
    "                    date_games = dates[i-1].find_next_siblings('tr', {\"class\": \"deactivate\"})\n",
    "                else:\n",
    "                    date_games = dates[i-1].find_next_siblings('tr', {\"class\": \"deactivate\"})[:-1*games_registered]\n",
    "                games_registered += len(date_games)\n",
    "                date_info_splitted = dates[i-1].contents[0].text.split('-')\n",
    "#                 if len(date_info_splitted) > 1:\n",
    "#                     continue\n",
    "                date_text = date_info_splitted[0].strip()\n",
    "                # print(date_text)\n",
    "                games_parsed = [[datetime(int(date_text.split(' ')[2]), \n",
    "                                                    months[date_text.split(' ')[1]], \n",
    "                                                    int(date_text.split(' ')[0]), \n",
    "                                                    hour=int(g.contents[0].text.strip().split(':')[0]), \n",
    "                                                    minute=int(g.contents[0].text.strip().split(':')[1]), \n",
    "                                                    second=0) - timedelta(hours=3, minutes=0), # Substracting 3 hours to align with the nba api timezone\n",
    "                                      # \"{} - {}\".format(date_text, g.contents[0].text.strip()),\n",
    "                                      next(filter(lambda x: x['full_name'] == g.contents[1].text.split('-')[0].strip(), nba_teams))['id'], # Team A Id\n",
    "                                      next(filter(lambda x: x['full_name'] == g.contents[1].text.split('-')[1].strip(), nba_teams))['id'], # Team B Id\n",
    "                                      g.contents[1].text.split('-')[0].strip(), # Team A Name\n",
    "                                      g.contents[1].text.split('-')[1].strip(), # Team B Name\n",
    "                                      g.contents[2].text.split(':')[0].strip(), # Team A Pts\n",
    "                                      g.contents[2].text.split(':')[1].replace('OT', '').strip(), # Team B Pts\n",
    "                                      g.contents[3].text,  # Team A Odds\n",
    "                                      g.contents[4].text] # Team B Odds\n",
    "                                      for g in date_games if len(g.contents[2].text.split(':')) > 1]\n",
    "                games.extend(games_parsed)\n",
    "                # print('{} Games appended'.format(len(games_parsed)))\n",
    "            except:\n",
    "                continue\n",
    "        \n",
    "        btn_next_page = driver.find_element_by_xpath('/html/body/div[1]/div/div[2]/div[6]/div[1]/div/div[1]/div[2]/div[1]/div[6]/div/a[2]')\n",
    "        btn_next_page.click()\n",
    "        time.sleep(4)\n",
    "        \n",
    "        element = driver.find_elements_by_id(\"tournamentTable\")[0]\n",
    "        htmlContent = element.get_attribute('outerHTML')\n",
    "        page_soup = soup(htmlContent, \"html.parser\")\n",
    "        active_page -= 1\n",
    "        # active_page = ''.join(page_soup.find('span', {\"class\": \"active-page\"}).findAll(text=True))\n",
    "        print('Page', active_page)\n",
    "    \n",
    "    driver.quit()\n",
    "    return games\n",
    "    "
   ]
  },
  {
   "cell_type": "code",
   "execution_count": 4,
   "metadata": {},
   "outputs": [
    {
     "name": "stderr",
     "output_type": "stream",
     "text": [
      "\n",
      "\n",
      "====== WebDriver manager ======\n",
      "Current google-chrome version is 100.0.4896\n",
      "Get LATEST driver version for 100.0.4896\n"
     ]
    },
    {
     "name": "stdout",
     "output_type": "stream",
     "text": [
      "Getting odds for season 2008-2009...\n"
     ]
    },
    {
     "name": "stderr",
     "output_type": "stream",
     "text": [
      "Get LATEST driver version for 100.0.4896\n",
      "Trying to download new driver from https://chromedriver.storage.googleapis.com/100.0.4896.60/chromedriver_win32.zip\n",
      "Driver has been saved in cache [C:\\Users\\caiog\\.wdm\\drivers\\chromedriver\\win32\\100.0.4896.60]\n"
     ]
    },
    {
     "name": "stdout",
     "output_type": "stream",
     "text": [
      "Page 28\n",
      "Page 27\n",
      "Page 26\n",
      "Page 25\n",
      "Page 24\n",
      "Page 23\n",
      "Page 22\n",
      "Page 21\n",
      "Page 20\n",
      "Page 19\n",
      "Page 18\n",
      "Page 17\n",
      "Page 16\n",
      "Page 15\n",
      "Page 14\n",
      "Page 13\n",
      "Page 12\n",
      "Page 11\n",
      "Page 10\n",
      "Page 9\n",
      "Page 8\n",
      "Page 7\n",
      "Page 6\n",
      "Page 5\n",
      "Page 4\n",
      "Page 3\n",
      "Page 2\n",
      "Page 1\n",
      "Page 0\n"
     ]
    },
    {
     "name": "stderr",
     "output_type": "stream",
     "text": [
      "\n",
      "\n",
      "====== WebDriver manager ======\n",
      "Current google-chrome version is 100.0.4896\n",
      "Get LATEST driver version for 100.0.4896\n",
      "Driver [C:\\Users\\caiog\\.wdm\\drivers\\chromedriver\\win32\\100.0.4896.60\\chromedriver.exe] found in cache\n"
     ]
    },
    {
     "name": "stdout",
     "output_type": "stream",
     "text": [
      "Getting odds for season 2009-2010...\n",
      "Page 29\n",
      "Page 28\n",
      "Page 27\n",
      "Page 26\n",
      "Page 25\n",
      "Page 24\n",
      "Page 23\n",
      "Page 22\n",
      "Page 21\n",
      "Page 20\n",
      "Page 19\n",
      "Page 18\n",
      "Page 17\n",
      "Page 16\n",
      "Page 15\n",
      "Page 14\n",
      "Page 13\n",
      "Page 12\n",
      "Page 11\n",
      "Page 10\n",
      "Page 9\n",
      "Page 8\n",
      "Page 7\n",
      "Page 6\n",
      "Page 5\n",
      "Page 4\n",
      "Page 3\n",
      "Page 2\n",
      "Page 1\n",
      "Page 0\n"
     ]
    },
    {
     "name": "stderr",
     "output_type": "stream",
     "text": [
      "\n",
      "\n",
      "====== WebDriver manager ======\n",
      "Current google-chrome version is 100.0.4896\n",
      "Get LATEST driver version for 100.0.4896\n",
      "Driver [C:\\Users\\caiog\\.wdm\\drivers\\chromedriver\\win32\\100.0.4896.60\\chromedriver.exe] found in cache\n"
     ]
    },
    {
     "name": "stdout",
     "output_type": "stream",
     "text": [
      "Getting odds for season 2010-2011...\n",
      "Page 29\n",
      "Page 28\n",
      "Page 27\n",
      "Page 26\n",
      "Page 25\n",
      "Page 24\n",
      "Page 23\n",
      "Page 22\n",
      "Page 21\n",
      "Page 20\n",
      "Page 19\n",
      "Page 18\n",
      "Page 17\n",
      "Page 16\n",
      "Page 15\n",
      "Page 14\n",
      "Page 13\n",
      "Page 12\n",
      "Page 11\n",
      "Page 10\n",
      "Page 9\n",
      "Page 8\n",
      "Page 7\n",
      "Page 6\n",
      "Page 5\n",
      "Page 4\n",
      "Page 3\n",
      "Page 2\n",
      "Page 1\n",
      "Page 0\n"
     ]
    },
    {
     "name": "stderr",
     "output_type": "stream",
     "text": [
      "\n",
      "\n",
      "====== WebDriver manager ======\n",
      "Current google-chrome version is 100.0.4896\n",
      "Get LATEST driver version for 100.0.4896\n"
     ]
    },
    {
     "name": "stdout",
     "output_type": "stream",
     "text": [
      "Getting odds for season 2011-2012...\n"
     ]
    },
    {
     "name": "stderr",
     "output_type": "stream",
     "text": [
      "Driver [C:\\Users\\caiog\\.wdm\\drivers\\chromedriver\\win32\\100.0.4896.60\\chromedriver.exe] found in cache\n"
     ]
    },
    {
     "name": "stdout",
     "output_type": "stream",
     "text": [
      "Page 23\n",
      "Page 22\n",
      "Page 21\n",
      "Page 20\n",
      "Page 19\n",
      "Page 18\n",
      "Page 17\n",
      "Page 16\n",
      "Page 15\n",
      "Page 14\n",
      "Page 13\n",
      "Page 12\n",
      "Page 11\n",
      "Page 10\n",
      "Page 9\n",
      "Page 8\n",
      "Page 7\n",
      "Page 6\n",
      "Page 5\n",
      "Page 4\n",
      "Page 3\n",
      "Page 2\n",
      "Page 1\n",
      "Page 0\n"
     ]
    },
    {
     "name": "stderr",
     "output_type": "stream",
     "text": [
      "\n",
      "\n",
      "====== WebDriver manager ======\n",
      "Current google-chrome version is 100.0.4896\n",
      "Get LATEST driver version for 100.0.4896\n",
      "Driver [C:\\Users\\caiog\\.wdm\\drivers\\chromedriver\\win32\\100.0.4896.60\\chromedriver.exe] found in cache\n"
     ]
    },
    {
     "name": "stdout",
     "output_type": "stream",
     "text": [
      "Getting odds for season 2012-2013...\n",
      "Page 29\n",
      "Page 28\n",
      "Page 27\n",
      "Page 26\n",
      "Page 25\n",
      "Page 24\n",
      "Page 23\n",
      "Page 22\n",
      "Page 21\n",
      "Page 20\n",
      "Page 19\n",
      "Page 18\n",
      "Page 17\n",
      "Page 16\n",
      "Page 15\n",
      "Page 14\n",
      "Page 13\n",
      "Page 12\n",
      "Page 11\n",
      "Page 10\n",
      "Page 9\n",
      "Page 8\n",
      "Page 7\n",
      "Page 6\n",
      "Page 5\n",
      "Page 4\n",
      "Page 3\n",
      "Page 2\n",
      "Page 1\n",
      "Page 0\n"
     ]
    },
    {
     "name": "stderr",
     "output_type": "stream",
     "text": [
      "\n",
      "\n",
      "====== WebDriver manager ======\n",
      "Current google-chrome version is 100.0.4896\n",
      "Get LATEST driver version for 100.0.4896\n",
      "Driver [C:\\Users\\caiog\\.wdm\\drivers\\chromedriver\\win32\\100.0.4896.60\\chromedriver.exe] found in cache\n"
     ]
    },
    {
     "name": "stdout",
     "output_type": "stream",
     "text": [
      "Getting odds for season 2013-2014...\n",
      "Page 29\n",
      "Page 28\n",
      "Page 27\n",
      "Page 26\n",
      "Page 25\n",
      "Page 24\n",
      "Page 23\n",
      "Page 22\n",
      "Page 21\n",
      "Page 20\n",
      "Page 19\n",
      "Page 18\n",
      "Page 17\n",
      "Page 16\n",
      "Page 15\n",
      "Page 14\n",
      "Page 13\n",
      "Page 12\n",
      "Page 11\n",
      "Page 10\n",
      "Page 9\n",
      "Page 8\n",
      "Page 7\n",
      "Page 6\n",
      "Page 5\n",
      "Page 4\n",
      "Page 3\n",
      "Page 2\n",
      "Page 1\n",
      "Page 0\n"
     ]
    },
    {
     "name": "stderr",
     "output_type": "stream",
     "text": [
      "\n",
      "\n",
      "====== WebDriver manager ======\n",
      "Current google-chrome version is 100.0.4896\n",
      "Get LATEST driver version for 100.0.4896\n"
     ]
    },
    {
     "name": "stdout",
     "output_type": "stream",
     "text": [
      "Getting odds for season 2014-2015...\n"
     ]
    },
    {
     "name": "stderr",
     "output_type": "stream",
     "text": [
      "Driver [C:\\Users\\caiog\\.wdm\\drivers\\chromedriver\\win32\\100.0.4896.60\\chromedriver.exe] found in cache\n"
     ]
    },
    {
     "name": "stdout",
     "output_type": "stream",
     "text": [
      "Page 29\n",
      "Page 28\n",
      "Page 27\n",
      "Page 26\n",
      "Page 25\n",
      "Page 24\n",
      "Page 23\n",
      "Page 22\n",
      "Page 21\n",
      "Page 20\n",
      "Page 19\n",
      "Page 18\n",
      "Page 17\n",
      "Page 16\n",
      "Page 15\n",
      "Page 14\n",
      "Page 13\n",
      "Page 12\n",
      "Page 11\n",
      "Page 10\n",
      "Page 9\n",
      "Page 8\n",
      "Page 7\n",
      "Page 6\n",
      "Page 5\n",
      "Page 4\n",
      "Page 3\n",
      "Page 2\n",
      "Page 1\n",
      "Page 0\n"
     ]
    },
    {
     "name": "stderr",
     "output_type": "stream",
     "text": [
      "\n",
      "\n",
      "====== WebDriver manager ======\n",
      "Current google-chrome version is 100.0.4896\n",
      "Get LATEST driver version for 100.0.4896\n",
      "Driver [C:\\Users\\caiog\\.wdm\\drivers\\chromedriver\\win32\\100.0.4896.60\\chromedriver.exe] found in cache\n"
     ]
    },
    {
     "name": "stdout",
     "output_type": "stream",
     "text": [
      "Getting odds for season 2015-2016...\n",
      "Page 29\n",
      "Page 28\n",
      "Page 27\n",
      "Page 26\n",
      "Page 25\n",
      "Page 24\n",
      "Page 23\n",
      "Page 22\n",
      "Page 21\n",
      "Page 20\n",
      "Page 19\n",
      "Page 18\n",
      "Page 17\n",
      "Page 16\n",
      "Page 15\n",
      "Page 14\n",
      "Page 13\n",
      "Page 12\n",
      "Page 11\n",
      "Page 10\n",
      "Page 9\n",
      "Page 8\n",
      "Page 7\n",
      "Page 6\n",
      "Page 5\n",
      "Page 4\n",
      "Page 3\n",
      "Page 2\n",
      "Page 1\n",
      "Page 0\n"
     ]
    },
    {
     "name": "stderr",
     "output_type": "stream",
     "text": [
      "\n",
      "\n",
      "====== WebDriver manager ======\n",
      "Current google-chrome version is 100.0.4896\n",
      "Get LATEST driver version for 100.0.4896\n"
     ]
    },
    {
     "name": "stdout",
     "output_type": "stream",
     "text": [
      "Getting odds for season 2016-2017...\n"
     ]
    },
    {
     "name": "stderr",
     "output_type": "stream",
     "text": [
      "Driver [C:\\Users\\caiog\\.wdm\\drivers\\chromedriver\\win32\\100.0.4896.60\\chromedriver.exe] found in cache\n"
     ]
    },
    {
     "name": "stdout",
     "output_type": "stream",
     "text": [
      "Page 29\n",
      "Page 28\n",
      "Page 27\n",
      "Page 26\n",
      "Page 25\n",
      "Page 24\n",
      "Page 23\n",
      "Page 22\n",
      "Page 21\n",
      "Page 20\n",
      "Page 19\n",
      "Page 18\n",
      "Page 17\n",
      "Page 16\n",
      "Page 15\n",
      "Page 14\n",
      "Page 13\n",
      "Page 12\n",
      "Page 11\n",
      "Page 10\n",
      "Page 9\n",
      "Page 8\n",
      "Page 7\n",
      "Page 6\n",
      "Page 5\n",
      "Page 4\n",
      "Page 3\n",
      "Page 2\n",
      "Page 1\n",
      "Page 0\n"
     ]
    },
    {
     "name": "stderr",
     "output_type": "stream",
     "text": [
      "\n",
      "\n",
      "====== WebDriver manager ======\n",
      "Current google-chrome version is 100.0.4896\n",
      "Get LATEST driver version for 100.0.4896\n",
      "Driver [C:\\Users\\caiog\\.wdm\\drivers\\chromedriver\\win32\\100.0.4896.60\\chromedriver.exe] found in cache\n"
     ]
    },
    {
     "name": "stdout",
     "output_type": "stream",
     "text": [
      "Getting odds for season 2017-2018...\n",
      "Page 28\n",
      "Page 27\n",
      "Page 26\n",
      "Page 25\n",
      "Page 24\n",
      "Page 23\n",
      "Page 22\n",
      "Page 21\n",
      "Page 20\n",
      "Page 19\n",
      "Page 18\n",
      "Page 17\n",
      "Page 16\n",
      "Page 15\n",
      "Page 14\n",
      "Page 13\n",
      "Page 12\n",
      "Page 11\n",
      "Page 10\n",
      "Page 9\n",
      "Page 8\n",
      "Page 7\n",
      "Page 6\n",
      "Page 5\n",
      "Page 4\n",
      "Page 3\n",
      "Page 2\n",
      "Page 1\n",
      "Page 0\n"
     ]
    },
    {
     "name": "stderr",
     "output_type": "stream",
     "text": [
      "\n",
      "\n",
      "====== WebDriver manager ======\n",
      "Current google-chrome version is 100.0.4896\n",
      "Get LATEST driver version for 100.0.4896\n",
      "Driver [C:\\Users\\caiog\\.wdm\\drivers\\chromedriver\\win32\\100.0.4896.60\\chromedriver.exe] found in cache\n"
     ]
    },
    {
     "name": "stdout",
     "output_type": "stream",
     "text": [
      "Getting odds for season 2018-2019...\n",
      "Page 28\n",
      "Page 27\n",
      "Page 26\n",
      "Page 25\n",
      "Page 24\n",
      "Page 23\n",
      "Page 22\n",
      "Page 21\n",
      "Page 20\n",
      "Page 19\n",
      "Page 18\n",
      "Page 17\n",
      "Page 16\n",
      "Page 15\n",
      "Page 14\n",
      "Page 13\n",
      "Page 12\n",
      "Page 11\n",
      "Page 10\n",
      "Page 9\n",
      "Page 8\n",
      "Page 7\n",
      "Page 6\n",
      "Page 5\n",
      "Page 4\n",
      "Page 3\n",
      "Page 2\n",
      "Page 1\n",
      "Page 0\n"
     ]
    },
    {
     "name": "stderr",
     "output_type": "stream",
     "text": [
      "\n",
      "\n",
      "====== WebDriver manager ======\n",
      "Current google-chrome version is 100.0.4896\n",
      "Get LATEST driver version for 100.0.4896\n",
      "Driver [C:\\Users\\caiog\\.wdm\\drivers\\chromedriver\\win32\\100.0.4896.60\\chromedriver.exe] found in cache\n"
     ]
    },
    {
     "name": "stdout",
     "output_type": "stream",
     "text": [
      "Getting odds for season 2019-2020...\n",
      "Page 25\n",
      "Page 24\n",
      "Page 23\n",
      "Page 22\n",
      "Page 21\n",
      "Page 20\n",
      "Page 19\n",
      "Page 18\n",
      "Page 17\n",
      "Page 16\n",
      "Page 15\n",
      "Page 14\n",
      "Page 13\n",
      "Page 12\n",
      "Page 11\n",
      "Page 10\n",
      "Page 9\n",
      "Page 8\n",
      "Page 7\n",
      "Page 6\n",
      "Page 5\n",
      "Page 4\n",
      "Page 3\n",
      "Page 2\n",
      "Page 1\n",
      "Page 0\n"
     ]
    },
    {
     "name": "stderr",
     "output_type": "stream",
     "text": [
      "\n",
      "\n",
      "====== WebDriver manager ======\n",
      "Current google-chrome version is 100.0.4896\n",
      "Get LATEST driver version for 100.0.4896\n"
     ]
    },
    {
     "name": "stdout",
     "output_type": "stream",
     "text": [
      "Getting odds for season 2020-2021...\n"
     ]
    },
    {
     "name": "stderr",
     "output_type": "stream",
     "text": [
      "Driver [C:\\Users\\caiog\\.wdm\\drivers\\chromedriver\\win32\\100.0.4896.60\\chromedriver.exe] found in cache\n"
     ]
    },
    {
     "name": "stdout",
     "output_type": "stream",
     "text": [
      "Page 25\n",
      "Page 24\n",
      "Page 23\n",
      "Page 22\n",
      "Page 21\n",
      "Page 20\n",
      "Page 19\n",
      "Page 18\n",
      "Page 17\n",
      "Page 16\n",
      "Page 15\n",
      "Page 14\n",
      "Page 13\n",
      "Page 12\n",
      "Page 11\n",
      "Page 10\n",
      "Page 9\n",
      "Page 8\n",
      "Page 7\n",
      "Page 6\n",
      "Page 5\n",
      "Page 4\n",
      "Page 3\n",
      "Page 2\n",
      "Page 1\n",
      "Page 0\n"
     ]
    },
    {
     "name": "stderr",
     "output_type": "stream",
     "text": [
      "\n",
      "\n",
      "====== WebDriver manager ======\n",
      "Current google-chrome version is 100.0.4896\n",
      "Get LATEST driver version for 100.0.4896\n",
      "Driver [C:\\Users\\caiog\\.wdm\\drivers\\chromedriver\\win32\\100.0.4896.60\\chromedriver.exe] found in cache\n"
     ]
    },
    {
     "name": "stdout",
     "output_type": "stream",
     "text": [
      "Page 25\n",
      "Page 24\n",
      "Page 23\n",
      "Page 22\n",
      "Page 21\n",
      "Page 20\n",
      "Page 19\n",
      "Page 18\n",
      "Page 17\n",
      "Page 16\n",
      "Page 15\n",
      "Page 14\n",
      "Page 13\n",
      "Page 12\n",
      "Page 11\n",
      "Page 10\n",
      "Page 9\n",
      "Page 8\n",
      "Page 7\n",
      "Page 6\n",
      "Page 5\n",
      "Page 4\n",
      "Page 3\n",
      "Page 2\n",
      "Page 1\n",
      "Page 0\n",
      "18865\n"
     ]
    }
   ],
   "source": [
    "season = 2008\n",
    "games = []\n",
    "while season < 2021:\n",
    "    print('Getting odds for season {}-{}...'.format(season, season + 1))\n",
    "    games.extend(get_betting_odds('-{}-{}'.format(season,season+1)))\n",
    "    season += 1\n",
    "    \n",
    "games.extend(get_betting_odds(''))\n",
    "\n",
    "odds_df = pd.DataFrame(games, columns=['GAME_DATE', 'TEAM_A_ID', 'TEAM_B_ID', 'TEAM_A', 'TEAM_B', 'TEAM_A_PTS', 'TEAM_B_PTS', 'TEAM_A_ODDS', 'TEAM_B_ODDS'])\n",
    "odds_df.to_csv('../data/odds.csv')\n",
    "print(len(games))"
   ]
  }
 ],
 "metadata": {
  "kernelspec": {
   "display_name": "Python 3",
   "language": "python",
   "name": "python3"
  },
  "language_info": {
   "codemirror_mode": {
    "name": "ipython",
    "version": 3
   },
   "file_extension": ".py",
   "mimetype": "text/x-python",
   "name": "python",
   "nbconvert_exporter": "python",
   "pygments_lexer": "ipython3",
   "version": "3.8.5"
  }
 },
 "nbformat": 4,
 "nbformat_minor": 2
}
