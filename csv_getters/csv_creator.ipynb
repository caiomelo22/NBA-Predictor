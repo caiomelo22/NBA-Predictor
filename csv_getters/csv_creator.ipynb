{
 "cells": [
  {
   "cell_type": "code",
   "execution_count": 1,
   "metadata": {},
   "outputs": [],
   "source": [
    "import pandas as pd\n",
    "import numpy as np\n",
    "from functools import reduce\n",
    "from nba_api.stats.endpoints import leaguegamelog\n",
    "from nba_api.stats.static import teams \n",
    "import helper_functions as hf\n",
    "from IPython.display import clear_output"
   ]
  },
  {
   "cell_type": "code",
   "execution_count": 6,
   "metadata": {},
   "outputs": [
    {
     "name": "stdout",
     "output_type": "stream",
     "text": [
      "Getting NBA Seasons Information...\n",
      "2015/2021\n",
      "2016/2021\n",
      "2017/2021\n",
      "2018/2021\n",
      "2019/2021\n",
      "2020/2021\n",
      "Cleaning the data...\n",
      "size 14118\n"
     ]
    }
   ],
   "source": [
    "pd.options.mode.chained_assignment = None  # default='warn'\n",
    "teams_list = teams.get_teams()\n",
    "\n",
    "teams_per = dict()\n",
    "\n",
    "for team in teams_list:\n",
    "    team_id = team['id']\n",
    "    teams_per[team_id] = 0\n",
    "\n",
    "seasons_teams = []\n",
    "seasons_players = []\n",
    "first_season = 2015\n",
    "last_season = 2021\n",
    "first_season_id = 20000 + first_season\n",
    "\n",
    "print(\"Getting NBA Seasons Information...\")\n",
    "for i in range(first_season,last_season):\n",
    "    season_i_teams = leaguegamelog.LeagueGameLog(season = str(i)).get_data_frames()[0]\n",
    "    season_i_players = leaguegamelog.LeagueGameLog(season = str(i), player_or_team_abbreviation = 'P').get_data_frames()[0]\n",
    "    seasons_teams.append(season_i_teams)\n",
    "    seasons_players.append(season_i_players)\n",
    "    print(\"{}/{}\".format(i,last_season))\n",
    "\n",
    "\n",
    "dfs = []\n",
    "\n",
    "print(\"Cleaning the data...\")\n",
    "\n",
    "season_games = reduce(lambda  left,right: pd.merge(left,right, how='outer'), seasons_teams)\n",
    "season_games_plyrs = reduce(lambda  left,right: pd.merge(left,right, how='outer'), seasons_players)\n",
    "season_games.dropna(subset=['FG_PCT','FT_PCT','FG3_PCT'], inplace=True)\n",
    "\n",
    "season_games_plyrs['GAME_ID'] = pd.to_numeric(season_games_plyrs['GAME_ID'])\n",
    "season_games['GAME_ID'] = pd.to_numeric(season_games['GAME_ID'])\n",
    "season_games['GAME_DATE'] = pd.to_datetime(season_games['GAME_DATE'])\n",
    "season_games_plyrs['GAME_DATE'] = pd.to_datetime(season_games_plyrs['GAME_DATE'])\n",
    "\n",
    "print('size', len(season_games.index))"
   ]
  },
  {
   "cell_type": "code",
   "execution_count": 7,
   "metadata": {},
   "outputs": [
    {
     "name": "stdout",
     "output_type": "stream",
     "text": [
      "Initializing ELOs...\n",
      "Getting historical odds...\n"
     ]
    }
   ],
   "source": [
    "print(\"Initializing ELOs...\")\n",
    "\n",
    "elo_dic = dict()\n",
    "\n",
    "for team in teams_list:\n",
    "    elo_dic[team['id']] = 1500\n",
    "\n",
    "matches_organized = []\n",
    "matches_organized_lstm = []\n",
    "\n",
    "n_last_games = 10\n",
    "n_last_specific_games = 5\n",
    "\n",
    "season_id = ''    \n",
    "print('Getting historical odds...')\n",
    "odds = hf.load_bets_csv()"
   ]
  },
  {
   "cell_type": "code",
   "execution_count": 8,
   "metadata": {
    "scrolled": true
   },
   "outputs": [
    {
     "name": "stdout",
     "output_type": "stream",
     "text": [
      "7058/7059\n"
     ]
    }
   ],
   "source": [
    "print(\"Creating CSV file of all games...\")\n",
    "for i, g in season_games.groupby(season_games.index // 2):\n",
    "    clear_output(wait=True)\n",
    "    print(\"{}/{}\".format(i, len(season_games.index) // 2))\n",
    "    if g.iloc[[0],:].iloc[0]['WL'] == None:\n",
    "        break\n",
    "\n",
    "    if season_id != '' and season_id != g.iloc[[0],:].iloc[0]['SEASON_ID']:\n",
    "        hf.reset_season_elo(season_id, g, elo_dic)\n",
    "\n",
    "    season_id = g.iloc[[0],:].iloc[0]['SEASON_ID']\n",
    "        \n",
    "    game_id = g.iloc[[0],:].iloc[0]['GAME_ID']\n",
    "    game_date = g.iloc[[0],:].iloc[0]['GAME_DATE']\n",
    "\n",
    "    team_a_id = g.iloc[[0],:].iloc[0]['TEAM_ID']\n",
    "    team_b_id = g.iloc[1:2,:].iloc[0]['TEAM_ID']\n",
    "\n",
    "    team_a_abbv = g.iloc[[0],:].iloc[0]['TEAM_ABBREVIATION']\n",
    "    team_b_abbv = g.iloc[1:2,:].iloc[0]['TEAM_ABBREVIATION']\n",
    "    \n",
    "    winner = 'A' if g.iloc[[0],:].iloc[0]['WL'] == 'W' else 'B'\n",
    "    \n",
    "    # Update ELO after stats computed\n",
    "    team_a_pts = g.iloc[[0],:].iloc[0]['PTS']\n",
    "    team_b_pts = g.iloc[1:2,:].iloc[0]['PTS']\n",
    "    elo_a = elo_dic[team_a_id]\n",
    "    elo_b = elo_dic[team_b_id]\n",
    "\n",
    "    if '@' in g.iloc[[0],:].iloc[0]['MATCHUP']:\n",
    "        team_b_odds, team_a_odds = hf.get_teams_odds(team_b_id, team_a_id, game_date, odds)\n",
    "    else:\n",
    "        team_a_odds, team_b_odds = hf.get_teams_odds(team_a_id, team_b_id, game_date, odds)\n",
    "\n",
    "    team_a_previous_games = season_games.loc[(season_games['TEAM_ID'] == team_a_id) & (season_games['GAME_DATE'] < game_date)]\n",
    "    team_b_previous_games = season_games.loc[(season_games['TEAM_ID'] == team_b_id) & (season_games['GAME_DATE'] < game_date)]\n",
    "    team_a_season_games = team_a_previous_games.loc[team_a_previous_games['SEASON_ID'] == season_id]\n",
    "    team_b_season_games = team_b_previous_games.loc[team_b_previous_games['SEASON_ID'] == season_id]\n",
    "\n",
    "    # Getting teams last 10 games\n",
    "    team_a_previous_n_games = team_a_season_games.iloc[-n_last_games:,:]\n",
    "    team_b_previous_n_games = team_b_season_games.iloc[-n_last_games:,:]\n",
    "\n",
    "    if len(team_a_previous_games.index) > 0:\n",
    "        if team_a_previous_games.iloc[-1]['GAME_ID'] == g.iloc[[0],:].iloc[0]['GAME_ID']:\n",
    "            break\n",
    "\n",
    "    if not (int(season_id) >= first_season_id and len(team_a_previous_n_games.index) >= 5 and len(team_b_previous_n_games.index) >= 5 and team_a_odds != None and team_b_odds != None):\n",
    "        print(\"Not enough games.\")\n",
    "        hf.update_elo(winner, elo_a, elo_b, elo_dic, team_a_id, team_b_id, team_a_pts, team_b_pts)\n",
    "        continue\n",
    "\n",
    "    # Getting player information\n",
    "    teams_per[team_a_id] = hf.get_team_per_mean(team_a_id, game_id, game_date, season_id, season_games_plyrs)\n",
    "    teams_per[team_b_id] = hf.get_team_per_mean(team_b_id, game_id, game_date, season_id, season_games_plyrs)\n",
    "\n",
    "    # Season Win Percentage\n",
    "    team_a_season_pct = hf.get_wl_pct(team_a_season_games)[0]\n",
    "    team_b_season_pct = hf.get_wl_pct(team_b_season_games)[0]\n",
    "\n",
    "    # Poins Conceded\n",
    "    team_a_previous_games_pts_conceded = hf.team_points_conceded(team_a_previous_n_games, season_games)\n",
    "    team_b_previous_games_pts_conceded = hf.team_points_conceded(team_b_previous_n_games, season_games)\n",
    "\n",
    "    stats_team_a = hf.get_team_stats (team_a_previous_n_games, team_a_previous_games_pts_conceded, team_a_season_pct, elo_a, teams_per[team_a_id], team_a_odds)\n",
    "    stats_team_b = hf.get_team_stats (team_b_previous_n_games, team_b_previous_games_pts_conceded, team_b_season_pct, elo_b, teams_per[team_b_id], team_b_odds)\n",
    "\n",
    "    if '@' in g.iloc[[0],:].iloc[0]['MATCHUP']:\n",
    "        matches_organized.append([season_id, game_date, team_b_abbv, team_a_abbv] + stats_team_b + stats_team_a + [1 if winner == 'B' else 0])\n",
    "    else:\n",
    "        matches_organized.append([season_id, game_date, team_a_abbv, team_b_abbv] + stats_team_a + stats_team_b + [1 if winner == 'A' else 0])\n",
    "\n",
    "    matches_organized_lstm.append([team_a_abbv, team_a_id, game_date, team_a_pts, team_b_pts, g.iloc[[0],:].iloc[0]['FG_PCT'], g.iloc[[0],:].iloc[0]['FG3_PCT'], \n",
    "                    g.iloc[[0],:].iloc[0]['FT_PCT'], g.iloc[[0],:].iloc[0]['REB'], g.iloc[[0],:].iloc[0]['TOV'],\n",
    "                    team_a_season_pct, elo_a, elo_b,\n",
    "                     teams_per[team_a_id], team_a_odds, team_b_odds, 1 if winner == 'A' else 0])\n",
    "\n",
    "    matches_organized_lstm.append([team_b_abbv, team_b_id, game_date, team_b_pts, team_a_pts, g.iloc[1:2,:].iloc[0]['FG_PCT'], g.iloc[1:2,:].iloc[0]['FG3_PCT'], \n",
    "                    g.iloc[1:2,:].iloc[0]['FT_PCT'], g.iloc[1:2,:].iloc[0]['REB'], g.iloc[1:2,:].iloc[0]['TOV'],\n",
    "                    team_b_season_pct, elo_b, elo_a,\n",
    "                     teams_per[team_b_id], team_b_odds, team_a_odds, 1 if winner == 'B' else 0])\n",
    "\n",
    "\n",
    "    hf.update_elo(winner, elo_a, elo_b, elo_dic, team_a_id, team_b_id, team_a_pts, team_b_pts)"
   ]
  },
  {
   "cell_type": "code",
   "execution_count": 9,
   "metadata": {},
   "outputs": [],
   "source": [
    "final_df = pd.DataFrame(matches_organized, columns=['SEASON_ID', 'GAME_DATE', 'TEAM_A', 'TEAM_B',\n",
    "                                                    'PTS_A', 'PTS_CON_A', 'FG_PCT_A', 'FG3_PCT_A', 'FT_PCT_A', 'REB_A', 'TOV_A', 'SEASON_A_PCT', 'ELO_A', 'PER_A', 'ODDS_A',\n",
    "                                                    'PTS_B', 'PTS_CON_B', 'FG_PCT_B', 'FG3_PCT_B', 'FT_PCT_B', 'REB_B', 'TOV_B', 'SEASON_B_PCT', 'ELO_B', 'PER_B', 'ODDS_B',\n",
    "                                                    'WINNER'])\n",
    "final_df_lstm = pd.DataFrame(matches_organized_lstm, columns=['TEAM_ABBV', 'TEAM_ID', 'DATE',\n",
    "                                                    'PTS_A', 'PTS_CON_A', 'FG_PCT_A', 'FG3_PCT_A', 'FT_PCT_A', 'REB_A', 'TOV_A', \n",
    "                                                    'SEASON_A_PCT', 'ELO_A', 'ELO_OPP', 'PER_A', 'ODDS_A', 'ODDS_OPP',\n",
    "                                                    'WINNER'])\n",
    "final_df.to_csv('../data/{}-{}.csv'.format(first_season, last_season-1))\n",
    "final_df_lstm.to_csv('../data/LSTM/{}-{}.csv'.format(first_season, last_season-1))"
   ]
  }
 ],
 "metadata": {
  "kernelspec": {
   "display_name": "Python 3",
   "language": "python",
   "name": "python3"
  },
  "language_info": {
   "codemirror_mode": {
    "name": "ipython",
    "version": 3
   },
   "file_extension": ".py",
   "mimetype": "text/x-python",
   "name": "python",
   "nbconvert_exporter": "python",
   "pygments_lexer": "ipython3",
   "version": "3.8.5"
  }
 },
 "nbformat": 4,
 "nbformat_minor": 2
}
