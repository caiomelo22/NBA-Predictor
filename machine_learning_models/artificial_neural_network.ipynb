{
 "cells": [
  {
   "cell_type": "code",
   "execution_count": null,
   "metadata": {},
   "outputs": [],
   "source": [
    "import numpy as np\n",
    "import pandas as pd\n",
    "import tensorflow as tf\n",
    "import matplotlib.pyplot as plt\n",
    "import keras\n",
    "import os.path"
   ]
  },
  {
   "cell_type": "code",
   "execution_count": null,
   "metadata": {},
   "outputs": [],
   "source": [
    "def build_ann(X_train, y_train, X_test = None, y_test = None):\n",
    "    \" Building the ANN \"\n",
    "    \n",
    "    ann = keras.Sequential([\n",
    "        # input layer\n",
    "        tf.keras.layers.Dense(units=68, activation='relu', kernel_regularizer=keras.regularizers.l2(0.001)),\n",
    "        keras.layers.Dropout(0.9),\n",
    "    \n",
    "        # 1st dense layer\n",
    "        tf.keras.layers.Dense(units=68, activation='relu', kernel_regularizer=keras.regularizers.l2(0.001)),\n",
    "        keras.layers.Dropout(0.9),\n",
    "        \n",
    "        tf.keras.layers.Dense(units=1, activation='sigmoid')\n",
    "    ])\n",
    "    \n",
    "    \" Compiling the ANN \"\n",
    "    \n",
    "    ann.compile(optimizer = 'adam', loss = 'binary_crossentropy', metrics = ['accuracy'])\n",
    "    \n",
    "    \" Training the ANN on the Training set \"\n",
    "    \n",
    "    if X_test != None:\n",
    "        history = ann.fit(X_train, y_train, validation_data=(X_test, y_test), batch_size = 32, epochs = 100)\n",
    "    else:\n",
    "        history = ann.fit(X_train, y_train, batch_size = 32, epochs = 100)\n",
    "    \n",
    "    return ann, history"
   ]
  },
  {
   "cell_type": "code",
   "execution_count": null,
   "metadata": {},
   "outputs": [],
   "source": [
    "def import_dataset(season = '2018-2018'):\n",
    "    \n",
    "    \" Importing the dataset \"\n",
    "    \n",
    "    my_path = os.path.abspath(os.path.dirname(__file__))\n",
    "    path = os.path.join(my_path, '../../data/seasons/winner/{}.csv'.format(season))\n",
    "    dataset = pd.read_csv(path)\n",
    "    # dataset['WINNER'] = dataset['WINNER'].map({'A': 1, 'B': 0})\n",
    "    X = dataset.iloc[:, 5:-1].values\n",
    "    y = dataset.iloc[:, -1].values\n",
    "    \n",
    "    return X,y"
   ]
  },
  {
   "cell_type": "code",
   "execution_count": null,
   "metadata": {},
   "outputs": [],
   "source": [
    "def ann_no_validation(season = '2018-2018'):\n",
    "    X, y = import_dataset(season)\n",
    "    \n",
    "    return build_ann(X, y)"
   ]
  },
  {
   "cell_type": "code",
   "execution_count": null,
   "metadata": {},
   "outputs": [],
   "source": [
    "def ann(season = '2017-2017'):\n",
    "    X, y = import_dataset(season)\n",
    "    \n",
    "    \" Splitting the dataset into the Training set and Test set \"\n",
    "    \n",
    "    from sklearn.model_selection import train_test_split\n",
    "    X_train, X_test, y_train, y_test = train_test_split(X, y, test_size=0.25)\n",
    "    \n",
    "    \" Feature Scaling \"\n",
    "    \n",
    "    from sklearn.preprocessing import StandardScaler\n",
    "    sc = StandardScaler()\n",
    "    X_train = sc.fit_transform(X_train)\n",
    "    X_test = sc.transform(X_test)\n",
    "    \n",
    "    plt.show()\n",
    "    \n",
    "    \" Predicting single result \"\n",
    "    \n",
    "    # print(ann.predict(sc.transform([[1, 0, 0, 600, 1, 40, 3, 60000, 2, 1, 1, 50000]])) > 0.5)\n",
    "    \n",
    "    \" Predicting results with a margin of certainty\"\n",
    "    \n",
    "    y_pred = ann.predict(X_test)\n",
    "    \n",
    "    rows = y_pred.shape[0]\n",
    "    cols = y_pred.shape[1]\n",
    "    \n",
    "    y_less_risk_test = []\n",
    "    y_less_risk_pred = []\n",
    "    \n",
    "    for y in range(0, rows -1):\n",
    "      if y_pred[y][0] <= 0.4 or y_pred[y][0] >= 0.6:\n",
    "        y_less_risk_test.append(y_test[y])\n",
    "        y_less_risk_pred.append(y_pred[y] > 0.5)\n",
    "    \n",
    "    y_less_risk_test = np.array(y_less_risk_test)\n",
    "    y_less_risk_pred = np.array(y_less_risk_pred)\n",
    "    \n",
    "#     from sklearn.metrics import confusion_matrix, accuracy_score\n",
    "#     cm = confusion_matrix(y_less_risk_test, y_less_risk_pred)\n",
    "    # print('Predictions with a margin of certainty for the validation set')\n",
    "    # print(cm)\n",
    "    # print(accuracy_score(y_less_risk_test, y_less_risk_pred))\n",
    "    \n",
    "    y_pred = (y_pred > 0.5)\n",
    "    \n",
    "#     \" Predicting results for all data\"\n",
    "    \n",
    "#     from sklearn.metrics import confusion_matrix, accuracy_score\n",
    "#     cm = confusion_matrix(y_validation, y_pred)\n",
    "#     # print('\\nPredictions for the entire validation set')\n",
    "#     acc_score = accuracy_score(y_validation, y_pred)\n",
    "#     # print(cm)\n",
    "#     # print(acc_score)\n",
    "    \n",
    "    return cm, acc_score, ann"
   ]
  },
  {
   "cell_type": "code",
   "execution_count": null,
   "metadata": {},
   "outputs": [],
   "source": [
    "ann()"
   ]
  }
 ],
 "metadata": {
  "kernelspec": {
   "display_name": "Python 3",
   "language": "python",
   "name": "python3"
  },
  "language_info": {
   "codemirror_mode": {
    "name": "ipython",
    "version": 3
   },
   "file_extension": ".py",
   "mimetype": "text/x-python",
   "name": "python",
   "nbconvert_exporter": "python",
   "pygments_lexer": "ipython3",
   "version": "3.8.5"
  }
 },
 "nbformat": 4,
 "nbformat_minor": 2
}
