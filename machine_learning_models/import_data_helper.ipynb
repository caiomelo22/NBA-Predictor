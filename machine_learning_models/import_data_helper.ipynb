{
 "cells": [
  {
   "cell_type": "code",
   "execution_count": null,
   "metadata": {},
   "outputs": [],
   "source": [
    "import pandas as pd\n",
    "from pathlib import Path\n",
    "import os.path"
   ]
  },
  {
   "cell_type": "code",
   "execution_count": null,
   "metadata": {},
   "outputs": [],
   "source": [
    "def import_data_classification(season = '2018-2018', no_test=False):\n",
    "    \" Importing the dataset \"\n",
    "    \n",
    "    my_path = os.path.abspath(Path(os.path.abspath(os.path.dirname(__file__))).parent.absolute())\n",
    "    path = my_path +  '\\data\\seasons\\winner\\{}.csv'.format(season)\n",
    "    dataset = pd.read_csv(path)\n",
    "    X = dataset.iloc[:, 5:-1].values\n",
    "    y = dataset.iloc[:, -1:].values\n",
    "    \n",
    "    \" Splitting the dataset into the Training set and Test set and Feature Scaling\"\n",
    "    \n",
    "    from sklearn.model_selection import train_test_split\n",
    "    from sklearn.preprocessing import StandardScaler\n",
    "    \n",
    "    X_test = None\n",
    "    y_test = None\n",
    "    sc = StandardScaler()\n",
    "    if no_test:\n",
    "        X_train = X\n",
    "        y_train = y\n",
    "        X_train = sc.fit_transform(X_train)\n",
    "    else:\n",
    "        X_train, X_test, y_train, y_test = train_test_split(X, y, test_size = 0.2, random_state = 0)\n",
    "        X_train = sc.fit_transform(X_train)\n",
    "        X_test = sc.transform(X_test)\n",
    "    \n",
    "    \n",
    "    return dataset, X, y, X_train, X_test, y_train, y_test"
   ]
  },
  {
   "cell_type": "code",
   "execution_count": null,
   "metadata": {},
   "outputs": [],
   "source": [
    "def import_data_regression(season = '2018-2018'):\n",
    "    \" Importing the dataset \"\n",
    "    \n",
    "    my_path = os.path.abspath(os.path.dirname(__file__))\n",
    "    path = os.path.join(my_path, '../data/seasons/score/{}.csv'.format(season))\n",
    "    dataset = pd.read_csv(path)\n",
    "    X = dataset.iloc[:, 5:-2].values\n",
    "    y = dataset.iloc[:, -2:].values\n",
    "    \n",
    "    \" Splitting the dataset into the Training set and Test set \"\n",
    "    \n",
    "    from sklearn.model_selection import train_test_split\n",
    "    X_train, X_test, y_train, y_test = train_test_split(X, y, test_size = 0.2, random_state = 0)\n",
    "    \n",
    "    return dataset, X, y, X_train, X_test, y_train, y_test"
   ]
  }
 ],
 "metadata": {
  "kernelspec": {
   "display_name": "Python 3",
   "language": "python",
   "name": "python3"
  },
  "language_info": {
   "codemirror_mode": {
    "name": "ipython",
    "version": 3
   },
   "file_extension": ".py",
   "mimetype": "text/x-python",
   "name": "python",
   "nbconvert_exporter": "python",
   "pygments_lexer": "ipython3",
   "version": "3.8.5"
  }
 },
 "nbformat": 4,
 "nbformat_minor": 2
}
