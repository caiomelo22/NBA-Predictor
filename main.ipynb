{
 "cells": [
  {
   "cell_type": "code",
   "execution_count": 1,
   "metadata": {},
   "outputs": [],
   "source": [
    "import sys  \n",
    "sys.path.insert(0, './machine_learning_models')\n",
    "\n",
    "from logistic_regression import logistic_regression\n",
    "from stochastic_gradient_descent import stochastic_gradient_descent\n",
    "from knn import knn\n",
    "from kernel_svm import kernel_svm\n",
    "from naive_bayes import naive_bayes\n",
    "from random_forest import random_forest\n",
    "from voting_classifier import voting_classifier\n",
    "import os\n",
    "import pandas as pd\n",
    "import numpy as np\n",
    "import matplotlib.pyplot as plt\n",
    "import datetime as dt\n",
    "import matplotlib.dates as mdates\n",
    "from sklearn.metrics import confusion_matrix, accuracy_score\n",
    "from keras.models import model_from_json\n",
    "import pickle\n",
    "import dill"
   ]
  },
  {
   "cell_type": "code",
   "execution_count": 2,
   "metadata": {},
   "outputs": [],
   "source": [
    "min_threshold = 1.75\n",
    "max_threshold = 3"
   ]
  },
  {
   "cell_type": "code",
   "execution_count": 3,
   "metadata": {},
   "outputs": [],
   "source": [
    "def plot_chart(title, x_label, y_label):\n",
    "    plt.ylabel(y_label)\n",
    "    plt.xlabel(x_label)\n",
    "    plt.title(title)\n",
    "    plt.savefig('charts/{}.png'.format(title.replace(' ','_').lower()), dpi=300)\n",
    "    plt.show()"
   ]
  },
  {
   "cell_type": "code",
   "execution_count": 4,
   "metadata": {},
   "outputs": [],
   "source": [
    "def plot_hist(title, x_label, y_label, data):\n",
    "    plt.hist(data, density=False, bins=20)  # density=False would make counts\n",
    "    plot_chart(title, x_label, y_label)\n",
    "    \n",
    "def plot_bar(title, x_label, y_label, x_data, y_data):\n",
    "    ax= plt.subplot()\n",
    "    plt.bar(x_data, y_data) \n",
    "    # plt.setp(ax.get_xticklabels(), rotation=30, ha='right')\n",
    "    plt.xticks(fontsize=10, rotation=90)\n",
    "    plot_chart(title, x_label, y_label)\n",
    "    \n",
    "def plot_pie_chart(title, labels, data):\n",
    "    data_converted = np.unique(data, return_counts=True)[1]\n",
    "    plt.pie(data_converted, labels = labels, startangle = 90, shadow = True, autopct='%.2f%%')\n",
    "    plt.title(title)\n",
    "    plt.savefig('charts/{}.png'.format(title.replace(' ','_').lower()), dpi=300)\n",
    "    plt.show() \n",
    "    "
   ]
  },
  {
   "cell_type": "code",
   "execution_count": 5,
   "metadata": {},
   "outputs": [],
   "source": [
    "def check_bet_worth(prediction, odds_a, odds_b, pred_odds_a, pred_odds_b):\n",
    "    return (prediction == 1 and (pred_odds_a < odds_a) and (game['ODDS_A'] > min_threshold and game['ODDS_A'] < max_threshold)) or (prediction == 0 and (pred_odds_b < odds_b) and (game['ODDS_B'] > min_threshold and game['ODDS_B'] < max_threshold))\n",
    "#     return (prediction == 1 and (game['ODDS_A'] > min_threshold and game['ODDS_A'] < max_threshold)) or (prediction == 0 and (game['ODDS_B'] > min_threshold and game['ODDS_B'] < max_threshold))"
   ]
  },
  {
   "cell_type": "code",
   "execution_count": 6,
   "metadata": {},
   "outputs": [],
   "source": [
    "def check_game_with_odds(game, bet_value, pred_odds_a, pred_odds_b):\n",
    "    game_money = 0\n",
    "    prediction = game['ODDS_A'] <= game['ODDS_B']\n",
    "    if check_bet_worth(prediction, game['ODDS_A'], game['ODDS_B'], pred_odds_a, pred_odds_b):\n",
    "        if game['WINNER'] == prediction and game['WINNER'] == 1:\n",
    "            game_money = (bet_value*game['ODDS_A'] - bet_value)\n",
    "        elif game['WINNER'] == prediction and game['WINNER'] == 0:\n",
    "            game_money = (bet_value*game['ODDS_B'] - bet_value)\n",
    "        else:\n",
    "            game_money = -bet_value\n",
    "    return game_money"
   ]
  },
  {
   "cell_type": "code",
   "execution_count": 7,
   "metadata": {},
   "outputs": [],
   "source": [
    "def check_model_performance_on_game(game, prediction, bet_value, pred_odds_a, pred_odds_b):\n",
    "    game_money = 0\n",
    "    if check_bet_worth(prediction, game['ODDS_A'], game['ODDS_B'], pred_odds_a, pred_odds_b):\n",
    "        if game['WINNER'] == prediction and game['WINNER'] == 1:\n",
    "            game_money = (bet_value*game['ODDS_A'] - bet_value)\n",
    "        elif game['WINNER'] == prediction and game['WINNER'] == 0:\n",
    "            game_money = (bet_value*game['ODDS_B'] - bet_value)\n",
    "        else:\n",
    "            game_money = -bet_value\n",
    "    return game_money"
   ]
  },
  {
   "cell_type": "code",
   "execution_count": 8,
   "metadata": {},
   "outputs": [],
   "source": [
    "def get_bet_value(prob):\n",
    "#     bet_value = 0 \n",
    "#     if prob >= 0.5:\n",
    "#         bet_value = 10*prob\n",
    "#     else:\n",
    "#         bet_value = 10*abs(1-prob)\n",
    "    bet_value = 10\n",
    "    return bet_value\n",
    "    "
   ]
  },
  {
   "cell_type": "code",
   "execution_count": 9,
   "metadata": {},
   "outputs": [
    {
     "name": "stdout",
     "output_type": "stream",
     "text": [
      "\n",
      "Getting data for the model...\n"
     ]
    }
   ],
   "source": [
    "print('\\nGetting data for the model...')\n",
    "\n",
    "season_file = '2008-2021'\n",
    "\n",
    "first_season_train = 20000 + 2012\n",
    "last_season_train = 20000 + 2018\n",
    "\n",
    "whole_dataset = pd.read_csv('./data/{}.csv'.format(season_file))\n",
    "\n",
    "dataset_train = whole_dataset.loc[(whole_dataset['SEASON_ID'] >= first_season_train) & (whole_dataset['SEASON_ID'] <= last_season_train)].reset_index(drop=True)\n",
    "\n",
    "first_season_test = 20000 + 2012\n",
    "last_season_test = 20000 + 2018\n",
    "\n",
    "season_file_test = 'playoffs/2008-2020' # Playoffs testing\n",
    "\n",
    "whole_dataset_test = pd.read_csv('./data/{}.csv'.format(season_file_test)) # Playoffs testing\n",
    "\n",
    "# dataset = whole_dataset.loc[(whole_dataset['SEASON_ID'] >= first_season_test) & (whole_dataset['SEASON_ID'] <= last_season_test)].reset_index(drop=True)\n",
    "dataset = whole_dataset_test.loc[(whole_dataset_test['SEASON_ID'] >= first_season_test) & (whole_dataset_test['SEASON_ID'] <= last_season_test)].reset_index(drop=True) # Playoffs testing\n",
    "\n",
    "results = []\n",
    "\n",
    "X = dataset.iloc[:, 5:-1].values\n",
    "y = dataset.iloc[:, -1].values"
   ]
  },
  {
   "cell_type": "code",
   "execution_count": 13,
   "metadata": {},
   "outputs": [
    {
     "data": {
      "text/html": [
       "<div>\n",
       "<style scoped>\n",
       "    .dataframe tbody tr th:only-of-type {\n",
       "        vertical-align: middle;\n",
       "    }\n",
       "\n",
       "    .dataframe tbody tr th {\n",
       "        vertical-align: top;\n",
       "    }\n",
       "\n",
       "    .dataframe thead th {\n",
       "        text-align: right;\n",
       "    }\n",
       "</style>\n",
       "<table border=\"1\" class=\"dataframe\">\n",
       "  <thead>\n",
       "    <tr style=\"text-align: right;\">\n",
       "      <th></th>\n",
       "      <th>Unnamed: 0</th>\n",
       "      <th>SEASON_ID</th>\n",
       "      <th>GAME_DATE</th>\n",
       "      <th>TEAM_A</th>\n",
       "      <th>TEAM_B</th>\n",
       "      <th>PTS_A</th>\n",
       "      <th>PTS_CON_A</th>\n",
       "      <th>FG_PCT_A</th>\n",
       "      <th>FG3_PCT_A</th>\n",
       "      <th>FT_PCT_A</th>\n",
       "      <th>...</th>\n",
       "      <th>FG_PCT_B</th>\n",
       "      <th>FG3_PCT_B</th>\n",
       "      <th>FT_PCT_B</th>\n",
       "      <th>REB_B</th>\n",
       "      <th>TOV_B</th>\n",
       "      <th>SEASON_B_PCT</th>\n",
       "      <th>PER_B</th>\n",
       "      <th>ODDS_B</th>\n",
       "      <th>ELO_B</th>\n",
       "      <th>WINNER</th>\n",
       "    </tr>\n",
       "  </thead>\n",
       "  <tbody>\n",
       "    <tr>\n",
       "      <th>0</th>\n",
       "      <td>0</td>\n",
       "      <td>2008</td>\n",
       "      <td>2009-04-18</td>\n",
       "      <td>DET</td>\n",
       "      <td>CLE</td>\n",
       "      <td>100.4</td>\n",
       "      <td>92.7</td>\n",
       "      <td>0.4628</td>\n",
       "      <td>0.4131</td>\n",
       "      <td>0.7668</td>\n",
       "      <td>...</td>\n",
       "      <td>0.4601</td>\n",
       "      <td>0.3541</td>\n",
       "      <td>0.7354</td>\n",
       "      <td>43.2</td>\n",
       "      <td>11.5</td>\n",
       "      <td>0.475610</td>\n",
       "      <td>0</td>\n",
       "      <td>8.15</td>\n",
       "      <td>1467.643921</td>\n",
       "      <td>1</td>\n",
       "    </tr>\n",
       "    <tr>\n",
       "      <th>1</th>\n",
       "      <td>1</td>\n",
       "      <td>2008</td>\n",
       "      <td>2009-04-18</td>\n",
       "      <td>CHI</td>\n",
       "      <td>BOS</td>\n",
       "      <td>100.1</td>\n",
       "      <td>97.6</td>\n",
       "      <td>0.4837</td>\n",
       "      <td>0.4253</td>\n",
       "      <td>0.7342</td>\n",
       "      <td>...</td>\n",
       "      <td>0.4844</td>\n",
       "      <td>0.3934</td>\n",
       "      <td>0.8263</td>\n",
       "      <td>38.3</td>\n",
       "      <td>11.9</td>\n",
       "      <td>0.500000</td>\n",
       "      <td>0</td>\n",
       "      <td>4.55</td>\n",
       "      <td>1543.041257</td>\n",
       "      <td>0</td>\n",
       "    </tr>\n",
       "    <tr>\n",
       "      <th>2</th>\n",
       "      <td>2</td>\n",
       "      <td>2008</td>\n",
       "      <td>2009-04-18</td>\n",
       "      <td>DAL</td>\n",
       "      <td>SAS</td>\n",
       "      <td>97.6</td>\n",
       "      <td>95.3</td>\n",
       "      <td>0.4609</td>\n",
       "      <td>0.3464</td>\n",
       "      <td>0.7433</td>\n",
       "      <td>...</td>\n",
       "      <td>0.4775</td>\n",
       "      <td>0.3859</td>\n",
       "      <td>0.8237</td>\n",
       "      <td>41.8</td>\n",
       "      <td>11.1</td>\n",
       "      <td>0.609756</td>\n",
       "      <td>0</td>\n",
       "      <td>2.55</td>\n",
       "      <td>1584.239672</td>\n",
       "      <td>0</td>\n",
       "    </tr>\n",
       "    <tr>\n",
       "      <th>3</th>\n",
       "      <td>3</td>\n",
       "      <td>2008</td>\n",
       "      <td>2009-04-18</td>\n",
       "      <td>HOU</td>\n",
       "      <td>POR</td>\n",
       "      <td>100.7</td>\n",
       "      <td>84.9</td>\n",
       "      <td>0.4888</td>\n",
       "      <td>0.4009</td>\n",
       "      <td>0.7483</td>\n",
       "      <td>...</td>\n",
       "      <td>0.4645</td>\n",
       "      <td>0.3754</td>\n",
       "      <td>0.8079</td>\n",
       "      <td>44.5</td>\n",
       "      <td>13.1</td>\n",
       "      <td>0.646341</td>\n",
       "      <td>0</td>\n",
       "      <td>2.85</td>\n",
       "      <td>1632.090256</td>\n",
       "      <td>0</td>\n",
       "    </tr>\n",
       "    <tr>\n",
       "      <th>4</th>\n",
       "      <td>4</td>\n",
       "      <td>2008</td>\n",
       "      <td>2009-04-19</td>\n",
       "      <td>PHI</td>\n",
       "      <td>ORL</td>\n",
       "      <td>93.0</td>\n",
       "      <td>91.3</td>\n",
       "      <td>0.4311</td>\n",
       "      <td>0.3308</td>\n",
       "      <td>0.6744</td>\n",
       "      <td>...</td>\n",
       "      <td>0.4608</td>\n",
       "      <td>0.3158</td>\n",
       "      <td>0.7261</td>\n",
       "      <td>38.4</td>\n",
       "      <td>12.8</td>\n",
       "      <td>0.500000</td>\n",
       "      <td>0</td>\n",
       "      <td>5.48</td>\n",
       "      <td>1482.457308</td>\n",
       "      <td>0</td>\n",
       "    </tr>\n",
       "  </tbody>\n",
       "</table>\n",
       "<p>5 rows × 28 columns</p>\n",
       "</div>"
      ],
      "text/plain": [
       "   Unnamed: 0  SEASON_ID   GAME_DATE TEAM_A TEAM_B  PTS_A  PTS_CON_A  \\\n",
       "0           0       2008  2009-04-18    DET    CLE  100.4       92.7   \n",
       "1           1       2008  2009-04-18    CHI    BOS  100.1       97.6   \n",
       "2           2       2008  2009-04-18    DAL    SAS   97.6       95.3   \n",
       "3           3       2008  2009-04-18    HOU    POR  100.7       84.9   \n",
       "4           4       2008  2009-04-19    PHI    ORL   93.0       91.3   \n",
       "\n",
       "   FG_PCT_A  FG3_PCT_A  FT_PCT_A  ...  FG_PCT_B  FG3_PCT_B  FT_PCT_B  REB_B  \\\n",
       "0    0.4628     0.4131    0.7668  ...    0.4601     0.3541    0.7354   43.2   \n",
       "1    0.4837     0.4253    0.7342  ...    0.4844     0.3934    0.8263   38.3   \n",
       "2    0.4609     0.3464    0.7433  ...    0.4775     0.3859    0.8237   41.8   \n",
       "3    0.4888     0.4009    0.7483  ...    0.4645     0.3754    0.8079   44.5   \n",
       "4    0.4311     0.3308    0.6744  ...    0.4608     0.3158    0.7261   38.4   \n",
       "\n",
       "   TOV_B  SEASON_B_PCT  PER_B  ODDS_B        ELO_B  WINNER  \n",
       "0   11.5      0.475610      0    8.15  1467.643921       1  \n",
       "1   11.9      0.500000      0    4.55  1543.041257       0  \n",
       "2   11.1      0.609756      0    2.55  1584.239672       0  \n",
       "3   13.1      0.646341      0    2.85  1632.090256       0  \n",
       "4   12.8      0.500000      0    5.48  1482.457308       0  \n",
       "\n",
       "[5 rows x 28 columns]"
      ]
     },
     "execution_count": 13,
     "metadata": {},
     "output_type": "execute_result"
    }
   ],
   "source": [
    "whole_dataset_test.head()"
   ]
  },
  {
   "cell_type": "code",
   "execution_count": 12,
   "metadata": {},
   "outputs": [
    {
     "data": {
      "text/html": [
       "<div>\n",
       "<style scoped>\n",
       "    .dataframe tbody tr th:only-of-type {\n",
       "        vertical-align: middle;\n",
       "    }\n",
       "\n",
       "    .dataframe tbody tr th {\n",
       "        vertical-align: top;\n",
       "    }\n",
       "\n",
       "    .dataframe thead th {\n",
       "        text-align: right;\n",
       "    }\n",
       "</style>\n",
       "<table border=\"1\" class=\"dataframe\">\n",
       "  <thead>\n",
       "    <tr style=\"text-align: right;\">\n",
       "      <th></th>\n",
       "      <th>Unnamed: 0</th>\n",
       "      <th>SEASON_ID</th>\n",
       "      <th>GAME_DATE</th>\n",
       "      <th>TEAM_A</th>\n",
       "      <th>TEAM_B</th>\n",
       "      <th>PTS_A</th>\n",
       "      <th>PTS_CON_A</th>\n",
       "      <th>FG_PCT_A</th>\n",
       "      <th>FG3_PCT_A</th>\n",
       "      <th>FT_PCT_A</th>\n",
       "      <th>...</th>\n",
       "      <th>FG_PCT_B</th>\n",
       "      <th>FG3_PCT_B</th>\n",
       "      <th>FT_PCT_B</th>\n",
       "      <th>REB_B</th>\n",
       "      <th>TOV_B</th>\n",
       "      <th>SEASON_B_PCT</th>\n",
       "      <th>PER_B</th>\n",
       "      <th>ODDS_B</th>\n",
       "      <th>ELO_B</th>\n",
       "      <th>WINNER</th>\n",
       "    </tr>\n",
       "  </thead>\n",
       "  <tbody>\n",
       "    <tr>\n",
       "      <th>0</th>\n",
       "      <td>4281</td>\n",
       "      <td>22012</td>\n",
       "      <td>2012-11-09</td>\n",
       "      <td>LAL</td>\n",
       "      <td>GSW</td>\n",
       "      <td>97.2</td>\n",
       "      <td>98.8</td>\n",
       "      <td>0.4702</td>\n",
       "      <td>0.3484</td>\n",
       "      <td>0.6604</td>\n",
       "      <td>...</td>\n",
       "      <td>0.4514</td>\n",
       "      <td>0.3216</td>\n",
       "      <td>0.7432</td>\n",
       "      <td>43.0</td>\n",
       "      <td>16.2</td>\n",
       "      <td>0.6</td>\n",
       "      <td>15.749837</td>\n",
       "      <td>3.82</td>\n",
       "      <td>1432.370801</td>\n",
       "      <td>1</td>\n",
       "    </tr>\n",
       "    <tr>\n",
       "      <th>1</th>\n",
       "      <td>4282</td>\n",
       "      <td>22012</td>\n",
       "      <td>2012-11-09</td>\n",
       "      <td>PHX</td>\n",
       "      <td>CLE</td>\n",
       "      <td>97.4</td>\n",
       "      <td>105.0</td>\n",
       "      <td>0.4248</td>\n",
       "      <td>0.2824</td>\n",
       "      <td>0.7072</td>\n",
       "      <td>...</td>\n",
       "      <td>0.4370</td>\n",
       "      <td>0.3904</td>\n",
       "      <td>0.6154</td>\n",
       "      <td>42.2</td>\n",
       "      <td>17.8</td>\n",
       "      <td>0.4</td>\n",
       "      <td>16.483415</td>\n",
       "      <td>2.33</td>\n",
       "      <td>1369.393675</td>\n",
       "      <td>1</td>\n",
       "    </tr>\n",
       "    <tr>\n",
       "      <th>2</th>\n",
       "      <td>4283</td>\n",
       "      <td>22012</td>\n",
       "      <td>2012-11-09</td>\n",
       "      <td>SAC</td>\n",
       "      <td>SAS</td>\n",
       "      <td>92.8</td>\n",
       "      <td>97.2</td>\n",
       "      <td>0.4146</td>\n",
       "      <td>0.3108</td>\n",
       "      <td>0.7744</td>\n",
       "      <td>...</td>\n",
       "      <td>0.4736</td>\n",
       "      <td>0.3786</td>\n",
       "      <td>0.7362</td>\n",
       "      <td>37.8</td>\n",
       "      <td>15.0</td>\n",
       "      <td>0.8</td>\n",
       "      <td>15.464797</td>\n",
       "      <td>1.41</td>\n",
       "      <td>1661.442375</td>\n",
       "      <td>0</td>\n",
       "    </tr>\n",
       "    <tr>\n",
       "      <th>3</th>\n",
       "      <td>4284</td>\n",
       "      <td>22012</td>\n",
       "      <td>2012-11-09</td>\n",
       "      <td>DEN</td>\n",
       "      <td>UTA</td>\n",
       "      <td>96.4</td>\n",
       "      <td>97.8</td>\n",
       "      <td>0.4338</td>\n",
       "      <td>0.2902</td>\n",
       "      <td>0.6232</td>\n",
       "      <td>...</td>\n",
       "      <td>0.4446</td>\n",
       "      <td>0.3596</td>\n",
       "      <td>0.7366</td>\n",
       "      <td>43.2</td>\n",
       "      <td>14.6</td>\n",
       "      <td>0.4</td>\n",
       "      <td>17.402349</td>\n",
       "      <td>2.94</td>\n",
       "      <td>1547.534485</td>\n",
       "      <td>1</td>\n",
       "    </tr>\n",
       "    <tr>\n",
       "      <th>4</th>\n",
       "      <td>4285</td>\n",
       "      <td>22012</td>\n",
       "      <td>2012-11-09</td>\n",
       "      <td>OKC</td>\n",
       "      <td>DET</td>\n",
       "      <td>98.0</td>\n",
       "      <td>92.2</td>\n",
       "      <td>0.4642</td>\n",
       "      <td>0.4244</td>\n",
       "      <td>0.8518</td>\n",
       "      <td>...</td>\n",
       "      <td>0.4300</td>\n",
       "      <td>0.3710</td>\n",
       "      <td>0.7512</td>\n",
       "      <td>35.2</td>\n",
       "      <td>15.0</td>\n",
       "      <td>0.0</td>\n",
       "      <td>10.446004</td>\n",
       "      <td>7.46</td>\n",
       "      <td>1401.452196</td>\n",
       "      <td>1</td>\n",
       "    </tr>\n",
       "  </tbody>\n",
       "</table>\n",
       "<p>5 rows × 28 columns</p>\n",
       "</div>"
      ],
      "text/plain": [
       "   Unnamed: 0  SEASON_ID   GAME_DATE TEAM_A TEAM_B  PTS_A  PTS_CON_A  \\\n",
       "0        4281      22012  2012-11-09    LAL    GSW   97.2       98.8   \n",
       "1        4282      22012  2012-11-09    PHX    CLE   97.4      105.0   \n",
       "2        4283      22012  2012-11-09    SAC    SAS   92.8       97.2   \n",
       "3        4284      22012  2012-11-09    DEN    UTA   96.4       97.8   \n",
       "4        4285      22012  2012-11-09    OKC    DET   98.0       92.2   \n",
       "\n",
       "   FG_PCT_A  FG3_PCT_A  FT_PCT_A  ...  FG_PCT_B  FG3_PCT_B  FT_PCT_B  REB_B  \\\n",
       "0    0.4702     0.3484    0.6604  ...    0.4514     0.3216    0.7432   43.0   \n",
       "1    0.4248     0.2824    0.7072  ...    0.4370     0.3904    0.6154   42.2   \n",
       "2    0.4146     0.3108    0.7744  ...    0.4736     0.3786    0.7362   37.8   \n",
       "3    0.4338     0.2902    0.6232  ...    0.4446     0.3596    0.7366   43.2   \n",
       "4    0.4642     0.4244    0.8518  ...    0.4300     0.3710    0.7512   35.2   \n",
       "\n",
       "   TOV_B  SEASON_B_PCT      PER_B  ODDS_B        ELO_B  WINNER  \n",
       "0   16.2           0.6  15.749837    3.82  1432.370801       1  \n",
       "1   17.8           0.4  16.483415    2.33  1369.393675       1  \n",
       "2   15.0           0.8  15.464797    1.41  1661.442375       0  \n",
       "3   14.6           0.4  17.402349    2.94  1547.534485       1  \n",
       "4   15.0           0.0  10.446004    7.46  1401.452196       1  \n",
       "\n",
       "[5 rows x 28 columns]"
      ]
     },
     "execution_count": 12,
     "metadata": {},
     "output_type": "execute_result"
    }
   ],
   "source": [
    "dataset_train.head()"
   ]
  },
  {
   "cell_type": "code",
   "execution_count": 11,
   "metadata": {},
   "outputs": [
    {
     "data": {
      "text/html": [
       "<div>\n",
       "<style scoped>\n",
       "    .dataframe tbody tr th:only-of-type {\n",
       "        vertical-align: middle;\n",
       "    }\n",
       "\n",
       "    .dataframe tbody tr th {\n",
       "        vertical-align: top;\n",
       "    }\n",
       "\n",
       "    .dataframe thead th {\n",
       "        text-align: right;\n",
       "    }\n",
       "</style>\n",
       "<table border=\"1\" class=\"dataframe\">\n",
       "  <thead>\n",
       "    <tr style=\"text-align: right;\">\n",
       "      <th></th>\n",
       "      <th>Unnamed: 0</th>\n",
       "      <th>SEASON_ID</th>\n",
       "      <th>GAME_DATE</th>\n",
       "      <th>TEAM_A</th>\n",
       "      <th>TEAM_B</th>\n",
       "      <th>PTS_A</th>\n",
       "      <th>PTS_CON_A</th>\n",
       "      <th>FG_PCT_A</th>\n",
       "      <th>FG3_PCT_A</th>\n",
       "      <th>FT_PCT_A</th>\n",
       "      <th>...</th>\n",
       "      <th>FG_PCT_B</th>\n",
       "      <th>FG3_PCT_B</th>\n",
       "      <th>FT_PCT_B</th>\n",
       "      <th>REB_B</th>\n",
       "      <th>TOV_B</th>\n",
       "      <th>SEASON_B_PCT</th>\n",
       "      <th>PER_B</th>\n",
       "      <th>ODDS_B</th>\n",
       "      <th>ELO_B</th>\n",
       "      <th>WINNER</th>\n",
       "    </tr>\n",
       "  </thead>\n",
       "  <tbody>\n",
       "    <tr>\n",
       "      <th>8052</th>\n",
       "      <td>12333</td>\n",
       "      <td>22018</td>\n",
       "      <td>2019-04-10</td>\n",
       "      <td>MIL</td>\n",
       "      <td>OKC</td>\n",
       "      <td>121.8</td>\n",
       "      <td>113.0</td>\n",
       "      <td>0.4787</td>\n",
       "      <td>0.3793</td>\n",
       "      <td>0.7806</td>\n",
       "      <td>...</td>\n",
       "      <td>0.4462</td>\n",
       "      <td>0.3524</td>\n",
       "      <td>0.7099</td>\n",
       "      <td>46.7</td>\n",
       "      <td>12.3</td>\n",
       "      <td>0.592593</td>\n",
       "      <td>15.069088</td>\n",
       "      <td>1.54</td>\n",
       "      <td>1561.943516</td>\n",
       "      <td>0</td>\n",
       "    </tr>\n",
       "    <tr>\n",
       "      <th>8053</th>\n",
       "      <td>12334</td>\n",
       "      <td>22018</td>\n",
       "      <td>2019-04-10</td>\n",
       "      <td>ATL</td>\n",
       "      <td>IND</td>\n",
       "      <td>117.6</td>\n",
       "      <td>123.8</td>\n",
       "      <td>0.4511</td>\n",
       "      <td>0.3460</td>\n",
       "      <td>0.7299</td>\n",
       "      <td>...</td>\n",
       "      <td>0.4804</td>\n",
       "      <td>0.3822</td>\n",
       "      <td>0.6833</td>\n",
       "      <td>43.6</td>\n",
       "      <td>13.8</td>\n",
       "      <td>0.580247</td>\n",
       "      <td>10.154201</td>\n",
       "      <td>2.84</td>\n",
       "      <td>1540.011321</td>\n",
       "      <td>0</td>\n",
       "    </tr>\n",
       "    <tr>\n",
       "      <th>8054</th>\n",
       "      <td>12335</td>\n",
       "      <td>22018</td>\n",
       "      <td>2019-04-10</td>\n",
       "      <td>DEN</td>\n",
       "      <td>MIN</td>\n",
       "      <td>102.3</td>\n",
       "      <td>107.2</td>\n",
       "      <td>0.4425</td>\n",
       "      <td>0.3015</td>\n",
       "      <td>0.7530</td>\n",
       "      <td>...</td>\n",
       "      <td>0.4688</td>\n",
       "      <td>0.3770</td>\n",
       "      <td>0.7892</td>\n",
       "      <td>42.1</td>\n",
       "      <td>13.0</td>\n",
       "      <td>0.444444</td>\n",
       "      <td>19.401473</td>\n",
       "      <td>7.43</td>\n",
       "      <td>1451.053970</td>\n",
       "      <td>1</td>\n",
       "    </tr>\n",
       "    <tr>\n",
       "      <th>8055</th>\n",
       "      <td>12336</td>\n",
       "      <td>22018</td>\n",
       "      <td>2019-04-10</td>\n",
       "      <td>CHA</td>\n",
       "      <td>ORL</td>\n",
       "      <td>112.7</td>\n",
       "      <td>113.2</td>\n",
       "      <td>0.4472</td>\n",
       "      <td>0.3600</td>\n",
       "      <td>0.8186</td>\n",
       "      <td>...</td>\n",
       "      <td>0.4744</td>\n",
       "      <td>0.3677</td>\n",
       "      <td>0.7914</td>\n",
       "      <td>48.8</td>\n",
       "      <td>12.6</td>\n",
       "      <td>0.506173</td>\n",
       "      <td>22.146230</td>\n",
       "      <td>2.52</td>\n",
       "      <td>1576.371506</td>\n",
       "      <td>0</td>\n",
       "    </tr>\n",
       "    <tr>\n",
       "      <th>8056</th>\n",
       "      <td>12337</td>\n",
       "      <td>22018</td>\n",
       "      <td>2019-04-10</td>\n",
       "      <td>MEM</td>\n",
       "      <td>GSW</td>\n",
       "      <td>108.3</td>\n",
       "      <td>114.1</td>\n",
       "      <td>0.4330</td>\n",
       "      <td>0.3488</td>\n",
       "      <td>0.7699</td>\n",
       "      <td>...</td>\n",
       "      <td>0.5169</td>\n",
       "      <td>0.4261</td>\n",
       "      <td>0.7679</td>\n",
       "      <td>46.4</td>\n",
       "      <td>14.8</td>\n",
       "      <td>0.703704</td>\n",
       "      <td>12.021341</td>\n",
       "      <td>1.45</td>\n",
       "      <td>1657.530353</td>\n",
       "      <td>1</td>\n",
       "    </tr>\n",
       "  </tbody>\n",
       "</table>\n",
       "<p>5 rows × 28 columns</p>\n",
       "</div>"
      ],
      "text/plain": [
       "      Unnamed: 0  SEASON_ID   GAME_DATE TEAM_A TEAM_B  PTS_A  PTS_CON_A  \\\n",
       "8052       12333      22018  2019-04-10    MIL    OKC  121.8      113.0   \n",
       "8053       12334      22018  2019-04-10    ATL    IND  117.6      123.8   \n",
       "8054       12335      22018  2019-04-10    DEN    MIN  102.3      107.2   \n",
       "8055       12336      22018  2019-04-10    CHA    ORL  112.7      113.2   \n",
       "8056       12337      22018  2019-04-10    MEM    GSW  108.3      114.1   \n",
       "\n",
       "      FG_PCT_A  FG3_PCT_A  FT_PCT_A  ...  FG_PCT_B  FG3_PCT_B  FT_PCT_B  \\\n",
       "8052    0.4787     0.3793    0.7806  ...    0.4462     0.3524    0.7099   \n",
       "8053    0.4511     0.3460    0.7299  ...    0.4804     0.3822    0.6833   \n",
       "8054    0.4425     0.3015    0.7530  ...    0.4688     0.3770    0.7892   \n",
       "8055    0.4472     0.3600    0.8186  ...    0.4744     0.3677    0.7914   \n",
       "8056    0.4330     0.3488    0.7699  ...    0.5169     0.4261    0.7679   \n",
       "\n",
       "      REB_B  TOV_B  SEASON_B_PCT      PER_B  ODDS_B        ELO_B  WINNER  \n",
       "8052   46.7   12.3      0.592593  15.069088    1.54  1561.943516       0  \n",
       "8053   43.6   13.8      0.580247  10.154201    2.84  1540.011321       0  \n",
       "8054   42.1   13.0      0.444444  19.401473    7.43  1451.053970       1  \n",
       "8055   48.8   12.6      0.506173  22.146230    2.52  1576.371506       0  \n",
       "8056   46.4   14.8      0.703704  12.021341    1.45  1657.530353       1  \n",
       "\n",
       "[5 rows x 28 columns]"
      ]
     },
     "execution_count": 11,
     "metadata": {},
     "output_type": "execute_result"
    }
   ],
   "source": [
    "dataset_train.tail()"
   ]
  },
  {
   "cell_type": "code",
   "execution_count": 10,
   "metadata": {},
   "outputs": [
    {
     "data": {
      "text/html": [
       "<div>\n",
       "<style scoped>\n",
       "    .dataframe tbody tr th:only-of-type {\n",
       "        vertical-align: middle;\n",
       "    }\n",
       "\n",
       "    .dataframe tbody tr th {\n",
       "        vertical-align: top;\n",
       "    }\n",
       "\n",
       "    .dataframe thead th {\n",
       "        text-align: right;\n",
       "    }\n",
       "</style>\n",
       "<table border=\"1\" class=\"dataframe\">\n",
       "  <thead>\n",
       "    <tr style=\"text-align: right;\">\n",
       "      <th></th>\n",
       "      <th>Unnamed: 0</th>\n",
       "      <th>SEASON_ID</th>\n",
       "      <th>GAME_DATE</th>\n",
       "      <th>TEAM_A</th>\n",
       "      <th>TEAM_B</th>\n",
       "      <th>PTS_A</th>\n",
       "      <th>PTS_CON_A</th>\n",
       "      <th>FG_PCT_A</th>\n",
       "      <th>FG3_PCT_A</th>\n",
       "      <th>FT_PCT_A</th>\n",
       "      <th>...</th>\n",
       "      <th>FG_PCT_B</th>\n",
       "      <th>FG3_PCT_B</th>\n",
       "      <th>FT_PCT_B</th>\n",
       "      <th>REB_B</th>\n",
       "      <th>TOV_B</th>\n",
       "      <th>SEASON_B_PCT</th>\n",
       "      <th>PER_B</th>\n",
       "      <th>ODDS_B</th>\n",
       "      <th>ELO_B</th>\n",
       "      <th>WINNER</th>\n",
       "    </tr>\n",
       "  </thead>\n",
       "  <tbody>\n",
       "  </tbody>\n",
       "</table>\n",
       "<p>0 rows × 28 columns</p>\n",
       "</div>"
      ],
      "text/plain": [
       "Empty DataFrame\n",
       "Columns: [Unnamed: 0, SEASON_ID, GAME_DATE, TEAM_A, TEAM_B, PTS_A, PTS_CON_A, FG_PCT_A, FG3_PCT_A, FT_PCT_A, REB_A, TOV_A, SEASON_A_PCT, PER_A, ODDS_A, ELO_A, PTS_B, PTS_CON_B, FG_PCT_B, FG3_PCT_B, FT_PCT_B, REB_B, TOV_B, SEASON_B_PCT, PER_B, ODDS_B, ELO_B, WINNER]\n",
       "Index: []\n",
       "\n",
       "[0 rows x 28 columns]"
      ]
     },
     "execution_count": 10,
     "metadata": {},
     "output_type": "execute_result"
    }
   ],
   "source": [
    "dataset.head()"
   ]
  },
  {
   "cell_type": "code",
   "execution_count": 12,
   "metadata": {},
   "outputs": [
    {
     "data": {
      "text/html": [
       "<div>\n",
       "<style scoped>\n",
       "    .dataframe tbody tr th:only-of-type {\n",
       "        vertical-align: middle;\n",
       "    }\n",
       "\n",
       "    .dataframe tbody tr th {\n",
       "        vertical-align: top;\n",
       "    }\n",
       "\n",
       "    .dataframe thead th {\n",
       "        text-align: right;\n",
       "    }\n",
       "</style>\n",
       "<table border=\"1\" class=\"dataframe\">\n",
       "  <thead>\n",
       "    <tr style=\"text-align: right;\">\n",
       "      <th></th>\n",
       "      <th>Unnamed: 0</th>\n",
       "      <th>SEASON_ID</th>\n",
       "      <th>GAME_DATE</th>\n",
       "      <th>TEAM_A</th>\n",
       "      <th>TEAM_B</th>\n",
       "      <th>PTS_A</th>\n",
       "      <th>PTS_CON_A</th>\n",
       "      <th>FG_PCT_A</th>\n",
       "      <th>FG3_PCT_A</th>\n",
       "      <th>FT_PCT_A</th>\n",
       "      <th>...</th>\n",
       "      <th>FG_PCT_B</th>\n",
       "      <th>FG3_PCT_B</th>\n",
       "      <th>FT_PCT_B</th>\n",
       "      <th>REB_B</th>\n",
       "      <th>TOV_B</th>\n",
       "      <th>SEASON_B_PCT</th>\n",
       "      <th>PER_B</th>\n",
       "      <th>ODDS_B</th>\n",
       "      <th>ELO_B</th>\n",
       "      <th>WINNER</th>\n",
       "    </tr>\n",
       "  </thead>\n",
       "  <tbody>\n",
       "  </tbody>\n",
       "</table>\n",
       "<p>0 rows × 28 columns</p>\n",
       "</div>"
      ],
      "text/plain": [
       "Empty DataFrame\n",
       "Columns: [Unnamed: 0, SEASON_ID, GAME_DATE, TEAM_A, TEAM_B, PTS_A, PTS_CON_A, FG_PCT_A, FG3_PCT_A, FT_PCT_A, REB_A, TOV_A, SEASON_A_PCT, PER_A, ODDS_A, ELO_A, PTS_B, PTS_CON_B, FG_PCT_B, FG3_PCT_B, FT_PCT_B, REB_B, TOV_B, SEASON_B_PCT, PER_B, ODDS_B, ELO_B, WINNER]\n",
       "Index: []\n",
       "\n",
       "[0 rows x 28 columns]"
      ]
     },
     "execution_count": 12,
     "metadata": {},
     "output_type": "execute_result"
    }
   ],
   "source": [
    "dataset.tail()"
   ]
  },
  {
   "cell_type": "code",
   "execution_count": 861,
   "metadata": {},
   "outputs": [],
   "source": [
    "directory = \"models/{}\".format(season)\n",
    "if not os.path.exists(directory):\n",
    "    os.makedirs(directory)"
   ]
  },
  {
   "cell_type": "code",
   "execution_count": 862,
   "metadata": {},
   "outputs": [
    {
     "name": "stdout",
     "output_type": "stream",
     "text": [
      "\n",
      "Executing the logistic Regression model...\n"
     ]
    }
   ],
   "source": [
    "print('\\nExecuting the logistic Regression model...')\n",
    "Pkl_Filename = \"{}/LogisticRegressionModel.pkl\".format(directory)\n",
    "try:\n",
    "    with open(Pkl_Filename, 'rb') as file:  \n",
    "        logisticRegression = pickle.load(file)\n",
    "except:\n",
    "    logisticRegression = logistic_regression(dataset_train)\n",
    "    with open(Pkl_Filename, 'wb') as file:  \n",
    "        pickle.dump(logisticRegression, file)\n",
    "results.append(dict(model='Logistic Regression',cm=logisticRegression[0], acc=logisticRegression[1], classifier=logisticRegression[2]))\n"
   ]
  },
  {
   "cell_type": "code",
   "execution_count": 863,
   "metadata": {},
   "outputs": [
    {
     "name": "stdout",
     "output_type": "stream",
     "text": [
      "\n",
      "Executing the Stochastic Gradient Descent model...\n"
     ]
    }
   ],
   "source": [
    "print('\\nExecuting the Stochastic Gradient Descent model...')\n",
    "Pkl_Filename = \"{}/StochasticGradientDescent.pkl\".format(directory)\n",
    "try:\n",
    "    with open(Pkl_Filename, 'rb') as file:  \n",
    "        sgd = pickle.load(file)\n",
    "except:\n",
    "    sgd = stochastic_gradient_descent(dataset_train)\n",
    "    with open(Pkl_Filename, 'wb') as file:  \n",
    "        pickle.dump(sgd, file)\n",
    "results.append(dict(model='Stochastic Gradient Descent',cm=sgd[0], acc=sgd[1], classifier=sgd[2]))\n"
   ]
  },
  {
   "cell_type": "code",
   "execution_count": 864,
   "metadata": {},
   "outputs": [
    {
     "name": "stdout",
     "output_type": "stream",
     "text": [
      "\n",
      "Executing the KNN model...\n"
     ]
    }
   ],
   "source": [
    "print('\\nExecuting the KNN model...')\n",
    "Pkl_Filename = \"{}/KNN.pkl\".format(directory)\n",
    "try:\n",
    "    with open(Pkl_Filename, 'rb') as file:  \n",
    "        knn_model = pickle.load(file)\n",
    "except:\n",
    "    knn_model = knn(dataset_train)\n",
    "    with open(Pkl_Filename, 'wb') as file:  \n",
    "        pickle.dump(knn_model, file)\n",
    "results.append(dict(model='KNN',cm=knn_model[0], acc=knn_model[1], classifier=knn_model[2]))\n"
   ]
  },
  {
   "cell_type": "code",
   "execution_count": 865,
   "metadata": {},
   "outputs": [
    {
     "name": "stdout",
     "output_type": "stream",
     "text": [
      "Executing the Kernel SVM model...\n"
     ]
    }
   ],
   "source": [
    "print('Executing the Kernel SVM model...')\n",
    "Pkl_Filename = \"{}/KernelSVM.pkl\".format(directory)\n",
    "try:\n",
    "    with open(Pkl_Filename, 'rb') as file:  \n",
    "        svm = pickle.load(file)\n",
    "except:\n",
    "    svm = kernel_svm(dataset_train)\n",
    "    with open(Pkl_Filename, 'wb') as file:  \n",
    "        pickle.dump(svm, file)\n",
    "results.append(dict(model='Kernel SVM',cm=svm[0], acc=svm[1], classifier=svm[2]))"
   ]
  },
  {
   "cell_type": "code",
   "execution_count": 866,
   "metadata": {},
   "outputs": [
    {
     "name": "stdout",
     "output_type": "stream",
     "text": [
      "Executing the Naive Bayes model...\n"
     ]
    }
   ],
   "source": [
    "print('Executing the Naive Bayes model...')\n",
    "Pkl_Filename = \"{}/NaiveBayes.pkl\".format(directory)\n",
    "try:\n",
    "    with open(Pkl_Filename, 'rb') as file:  \n",
    "        nb = pickle.load(file)\n",
    "except:\n",
    "    nb = naive_bayes(dataset_train)\n",
    "    with open(Pkl_Filename, 'wb') as file:  \n",
    "        pickle.dump(nb, file)\n",
    "results.append(dict(model='Naive Bayes',cm=nb[0], acc=nb[1], classifier=nb[2]))"
   ]
  },
  {
   "cell_type": "code",
   "execution_count": 867,
   "metadata": {},
   "outputs": [
    {
     "name": "stdout",
     "output_type": "stream",
     "text": [
      "Executing the Random Forest model...\n"
     ]
    }
   ],
   "source": [
    "print('Executing the Random Forest model...')\n",
    "Pkl_Filename = \"{}/RandomForest.pkl\".format(directory)\n",
    "try:\n",
    "    with open(Pkl_Filename, 'rb') as file:  \n",
    "        rf = pickle.load(file)\n",
    "except:\n",
    "    rf = random_forest(dataset_train)\n",
    "    with open(Pkl_Filename, 'wb') as file:  \n",
    "        pickle.dump(rf, file)\n",
    "results.append(dict(model='Random Forest',cm=rf[0], acc=rf[1], classifier=rf[2]))"
   ]
  },
  {
   "cell_type": "code",
   "execution_count": 868,
   "metadata": {},
   "outputs": [
    {
     "name": "stdout",
     "output_type": "stream",
     "text": [
      "Executing the Voting Classifier model...\n"
     ]
    }
   ],
   "source": [
    "print('Executing the Voting Classifier model...')\n",
    "Pkl_Filename = \"{}/VotingClassifier.pkl\".format(directory)\n",
    "\n",
    "estimators = [('lr', logisticRegression[2]), ('svm', svm[2]), ('nb', nb[2]), ('sgd', sgd[2])]\n",
    "weights = [1,1,1,1]\n",
    "\n",
    "try:\n",
    "    with open(Pkl_Filename, 'rb') as file:  \n",
    "        vc = pickle.load(file)\n",
    "except:\n",
    "    vc = voting_classifier(dataset, estimators, weights)\n",
    "    with open(Pkl_Filename, 'wb') as file:  \n",
    "        pickle.dump(vc, file)\n",
    "results.append(dict(model='Voting Classifier',cm=vc[0], acc=vc[1], classifier=vc[2]))"
   ]
  },
  {
   "cell_type": "code",
   "execution_count": 869,
   "metadata": {},
   "outputs": [
    {
     "name": "stdout",
     "output_type": "stream",
     "text": [
      "\n",
      "Getting the feature correlation matrix...\n"
     ]
    },
    {
     "data": {
      "image/png": "[encoded data removed]",
      "text/plain": [
       "<Figure size 936x936 with 2 Axes>"
      ]
     },
     "metadata": {},
     "output_type": "display_data"
    }
   ],
   "source": [
    "print('\\nGetting the feature correlation matrix...')\n",
    "\n",
    "import seaborn as sns\n",
    "\n",
    "try:\n",
    "    dependent_variables = dataset.iloc[:,5:20]\n",
    "    corrmat = dependent_variables.corr()\n",
    "    top_corr_features = corrmat.index\n",
    "    plt.figure(figsize=(13,13))\n",
    "    title = 'Feature Correlation'\n",
    "    plt.title(title)\n",
    "    #plot heat map\n",
    "    sns.set(font_scale=0.6)\n",
    "    g=sns.heatmap(dependent_variables.corr(),annot=True,cmap='Blues', fmt='0.1g')\n",
    "    plt.savefig('charts/{}.png'.format(title.replace(' ','_').lower()), dpi=300)\n",
    "    plt.show()\n",
    "except:\n",
    "    print('No correlation matrix for the selected model.')"
   ]
  },
  {
   "cell_type": "code",
   "execution_count": 870,
   "metadata": {},
   "outputs": [
    {
     "name": "stdout",
     "output_type": "stream",
     "text": [
      "\n",
      "Getting classification model with the best predictions...\n",
      "Using predictions from Logistic Regression model: 0.6498696785403997\n",
      "Using predictions from Kernel SVM model: 0.6524761077324066\n",
      "Using predictions from Random Forest model: 0.6542137271937446\n",
      "Using predictions from Voting Classifier model: 0.68375325803649\n"
     ]
    }
   ],
   "source": [
    "print('\\nGetting classification model with the best predictions...')\n",
    "\n",
    "from sklearn.preprocessing import StandardScaler\n",
    "sc = StandardScaler()\n",
    "X_transformed = sc.fit_transform(X)\n",
    "\n",
    "modelCont = 0\n",
    "highestAcc = 0\n",
    "probs = dict()\n",
    "total_invested = dict()\n",
    "while True:\n",
    "    try:\n",
    "        total_invested[results[modelCont]['model']] = 0\n",
    "        results[modelCont]['pred'] = results[modelCont]['classifier'].predict(X_transformed)\n",
    "        probs[results[modelCont]['model']] = results[modelCont]['classifier'].predict_proba(X_transformed)\n",
    "        results[modelCont]['acc_test'] = accuracy_score(y, results[modelCont]['pred'])\n",
    "        if results[modelCont]['acc_test'] > highestAcc:\n",
    "            y_pred = results[modelCont]['pred']\n",
    "            highestAcc = results[modelCont]['acc_test']\n",
    "            print('Using predictions from {} model: {}'.format(results[modelCont]['model'], results[modelCont]['acc_test']))\n",
    "        modelCont += 1\n",
    "    except IndexError:\n",
    "        break\n",
    "\n",
    "results.sort(key=lambda x: x['acc_test'], reverse=True)"
   ]
  },
  {
   "cell_type": "code",
   "execution_count": 871,
   "metadata": {},
   "outputs": [
    {
     "name": "stdout",
     "output_type": "stream",
     "text": [
      "\n",
      "Results Classification (2016-2016):\n",
      "Voting Classifier:\t0.6838\n",
      "Random Forest:\t0.6542\n",
      "Kernel SVM:\t0.6525\n",
      "Logistic Regression:\t0.6499\n",
      "KNN:\t0.6403\n",
      "Naive Bayes:\t0.6368\n",
      "Stochastic Gradient Descent:\t0.6221\n",
      "Baseline Odds:\t65.4214\n"
     ]
    }
   ],
   "source": [
    "odds_baseline = dataset[((dataset['ODDS_A'] <= dataset['ODDS_B']) & (dataset['WINNER'] == 1)) | \n",
    "                   ((dataset['ODDS_B'] < dataset['ODDS_A']) & (dataset['WINNER'] == 0))]\n",
    "\n",
    "print('\\nResults Classification ({}):'.format(season_test))\n",
    "results.sort(key=lambda x: x['acc_test'], reverse=True)\n",
    "[print('{}:\\t{:.4f}'.format(x['model'], x['acc_test'])) for x in results]\n",
    "print('Baseline Odds:\\t{:.4f}'.format(100*len(odds_baseline.index)/len(dataset.index)))"
   ]
  },
  {
   "cell_type": "code",
   "execution_count": 872,
   "metadata": {},
   "outputs": [
    {
     "name": "stdout",
     "output_type": "stream",
     "text": [
      "\n",
      "Getting the probabilities of the best model possible...\n",
      "Using the Voting Classifier model for probability tracking!\n"
     ]
    }
   ],
   "source": [
    "print('\\nGetting the probabilities of the best model possible...')\n",
    "\n",
    "for res in results:\n",
    "    try:\n",
    "        y_prob = res['classifier'].predict_proba(X_transformed)\n",
    "        print('Using the {} model for probability tracking!'.format(res['model']))\n",
    "        break\n",
    "    except AttributeError:\n",
    "        continue"
   ]
  },
  {
   "cell_type": "code",
   "execution_count": 873,
   "metadata": {},
   "outputs": [
    {
     "name": "stdout",
     "output_type": "stream",
     "text": [
      "\n",
      "Displaying data for the Voting Classifier model...\n",
      "[[266 214]\n",
      " [150 521]]\n",
      "0.68375325803649\n"
     ]
    }
   ],
   "source": [
    "print('\\nDisplaying data for the {} model...'.format(results[0]['model']))\n",
    "cm = confusion_matrix(y.ravel(), y_pred.ravel())\n",
    "acc_score = accuracy_score(y, y_pred)\n",
    "print(cm)\n",
    "print(acc_score)"
   ]
  },
  {
   "cell_type": "code",
   "execution_count": 874,
   "metadata": {},
   "outputs": [],
   "source": [
    "right = 0\n",
    "total = 0"
   ]
  },
  {
   "cell_type": "code",
   "execution_count": 875,
   "metadata": {},
   "outputs": [],
   "source": [
    "def get_pred_odds(prob_a):\n",
    "    pred_odds_a = 1/prob_a\n",
    "    pred_odds_b = 1/(1-prob_a)\n",
    "    return pred_odds_a, pred_odds_b"
   ]
  },
  {
   "cell_type": "code",
   "execution_count": 876,
   "metadata": {},
   "outputs": [
    {
     "name": "stdout",
     "output_type": "stream",
     "text": [
      "\n",
      "Getting data from the regular models for visualization...\n"
     ]
    }
   ],
   "source": [
    "print(\"\\nGetting data from the regular models for visualization...\")\n",
    "profit = 0\n",
    "money_by_date = []\n",
    "bets_tracking_odds = [0]\n",
    "money_by_team = dict()\n",
    "bets = []\n",
    "money_by_date.append([dataset.iloc[0,2], dict(zip([x['model'] for x in results], [0 for x in results])),  dict(zip([x['model'] for x in results], [0 for x in results]))])\n",
    "\n",
    "for index, game in dataset.iterrows():\n",
    "    if game['GAME_DATE'] != money_by_date[-1][0]:    \n",
    "        bets_tracking_odds.append(bets_tracking_odds[-1])\n",
    "        money_by_date.append([game['GAME_DATE'],  dict(zip([x['model'] for x in results], [0 for x in results])), dict(money_by_date[-1][2])])\n",
    "\n",
    "    game_money = 0\n",
    "    bet_value = get_bet_value(y_prob[index,0])\n",
    "    \n",
    "    if game['TEAM_A'] not in money_by_team:\n",
    "        money_by_team[game['TEAM_A']] = 0\n",
    "    if game['TEAM_B'] not in money_by_team:\n",
    "        money_by_team[game['TEAM_B']] = 0\n",
    "    \n",
    "    pred_odds_a, pred_odds_b = get_pred_odds(y_prob[index,0])\n",
    "\n",
    "    game_money = check_model_performance_on_game(game, y_pred[index], bet_value, pred_odds_a, pred_odds_b)\n",
    "    if game_money != 0:\n",
    "        if game['WINNER'] == y_pred[index] and game['WINNER'] == 1:\n",
    "            bets.append(['A', game['ODDS_A'], y_prob[index,1], 1])\n",
    "            money_by_team[game['TEAM_A']] += game_money\n",
    "        elif game['WINNER'] == y_pred[index] and game['WINNER'] == 0:\n",
    "            bets.append(['B', game['ODDS_B'], y_prob[index,0], 1])\n",
    "            money_by_team[game['TEAM_B']] += game_money\n",
    "        else:\n",
    "            if y_pred[index] == 1:\n",
    "                bets.append(['A', game['ODDS_A'], y_prob[index,1], 0])\n",
    "                money_by_team[game['TEAM_A']] += game_money\n",
    "            else:\n",
    "                bets.append(['B', game['ODDS_B'], y_prob[index,0], 0])\n",
    "                money_by_team[game['TEAM_B']] += game_money\n",
    "\n",
    "        if game_money > 0:\n",
    "            right += 1\n",
    "        total += 1\n",
    "        \n",
    "    profit += game_money\n",
    "    bets_tracking_odds[-1] += check_game_with_odds(game, bet_value, pred_odds_a, pred_odds_b)\n",
    "\n",
    "    for model in money_by_date[-1][1]:\n",
    "        game_money_model = 0\n",
    "        if probs[model][index,0] != 1 and probs[model][index,0] != 0:\n",
    "            bet_value = get_bet_value(probs[model][index,0])\n",
    "            prediction = next(x['pred'][index] for x in results if x['model'] == model)\n",
    "            pred_odds_a, pred_odds_b = get_pred_odds(probs[model][index,0])\n",
    "            game_money_model = check_model_performance_on_game(game, prediction, bet_value, pred_odds_a, pred_odds_b)\n",
    "        if game_money_model != 0:\n",
    "            total_invested[model] += bet_value\n",
    "        money_by_date[-1][1][model] += game_money_model\n",
    "        money_by_date[-1][2][model] += game_money_model\n",
    "\n"
   ]
  },
  {
   "cell_type": "code",
   "execution_count": 877,
   "metadata": {},
   "outputs": [
    {
     "name": "stdout",
     "output_type": "stream",
     "text": [
      "Bets Result: 42/72 => 58.33%\n"
     ]
    }
   ],
   "source": [
    "print(\"Bets Result: {}/{} => {:.2f}%\".format(right, total, right*100/total))"
   ]
  },
  {
   "cell_type": "code",
   "execution_count": 878,
   "metadata": {},
   "outputs": [
    {
     "name": "stdout",
     "output_type": "stream",
     "text": [
      "\n",
      "Profit and margin by model...\n",
      "Model: Voting Classifier \t// Invested: 720 \t// Won: 305.10 \t// Margin: 42.37%\n",
      "Model: Random Forest \t// Invested: 150 \t// Won: -0.10 \t// Margin: -0.07%\n",
      "Model: Kernel SVM \t// Invested: 330 \t// Won: 96.70 \t// Margin: 29.30%\n",
      "Model: Logistic Regression \t// Invested: 310 \t// Won: -17.20 \t// Margin: -5.55%\n",
      "Model: KNN \t// Invested: 760 \t// Won: 56.80 \t// Margin: 7.47%\n",
      "Model: Naive Bayes \t// Invested: 270 \t// Won: -55.70 \t// Margin: -20.63%\n",
      "Model: Stochastic Gradient Descent \t// Invested: 770 \t// Won: 81.50 \t// Margin: 10.58%\n"
     ]
    }
   ],
   "source": [
    "print('\\nProfit and margin by model...')\n",
    "for model in money_by_date[-1][1]:\n",
    "    if total_invested[model] > 0:\n",
    "        print('Model: {} \\t// Invested: {} \\t// Won: {:.2f} \\t// Margin: {:.2f}%'.format(model, total_invested[model], money_by_date[-1][2][model], 100*money_by_date[-1][2][model]/total_invested[model]))"
   ]
  },
  {
   "cell_type": "code",
   "execution_count": 879,
   "metadata": {},
   "outputs": [
    {
     "name": "stdout",
     "output_type": "stream",
     "text": [
      "\n",
      "Plotting charts...\n"
     ]
    }
   ],
   "source": [
    "print('\\nPlotting charts...')\n",
    "\n",
    "models_tracking =  [np.array([x[2][model] for x in money_by_date], dtype=np.float32) for model in money_by_date[-1][1]]\n",
    "\n",
    "money_by_date = np.array(money_by_date, dtype=str)\n",
    "correct_bets = list(filter(lambda x: x[3] == 1, bets))\n",
    "missed_bets = list(filter(lambda x: x[3] == 0, bets))\n",
    "correct_bets_odds = np.array(list(map(lambda x: x[1], correct_bets)))\n",
    "missed_bets_odds = np.array(list(map(lambda x: x[1], missed_bets)))\n",
    "correct_bets_home = np.array(list(map(lambda x: x[0], correct_bets)))\n",
    "missed_bets_home = np.array(list(map(lambda x: x[0], missed_bets)))\n",
    "\n",
    "money_by_team = dict(sorted(money_by_team.items(), key=lambda x: x[1]))\n",
    "money_by_team_labels = np.array(list(money_by_team.keys()), dtype=str)\n",
    "money_by_team_values = np.array(list(money_by_team.values()), dtype=np.float32)"
   ]
  },
  {
   "cell_type": "code",
   "execution_count": 880,
   "metadata": {},
   "outputs": [
    {
     "data": {
      "image/png": "[encoded data removed]",
      "text/plain": [
       "<Figure size 432x288 with 1 Axes>"
      ]
     },
     "metadata": {},
     "output_type": "display_data"
    },
    {
     "data": {
      "image/png": "[encoded data removed]",
      "text/plain": [
       "<Figure size 432x288 with 1 Axes>"
      ]
     },
     "metadata": {},
     "output_type": "display_data"
    },
    {
     "data": {
      "image/png": "[encoded data removed]",
      "text/plain": [
       "<Figure size 432x288 with 1 Axes>"
      ]
     },
     "metadata": {},
     "output_type": "display_data"
    },
    {
     "data": {
      "image/png": "[encoded data removed]",
      "text/plain": [
       "<Figure size 432x288 with 1 Axes>"
      ]
     },
     "metadata": {},
     "output_type": "display_data"
    },
    {
     "data": {
      "image/png": "[encoded data removed]",
      "text/plain": [
       "<Figure size 432x288 with 1 Axes>"
      ]
     },
     "metadata": {},
     "output_type": "display_data"
    }
   ],
   "source": [
    "plot_hist('Missed Bets by Odds', 'Odds', 'X Times', missed_bets_odds)\n",
    "\n",
    "plot_hist('Correct Bets by Odds', 'Odds', 'X Times', correct_bets_odds)\n",
    "\n",
    "plot_pie_chart('Correct Bets by Home-Away', ['Home', 'Away'], correct_bets_home)\n",
    "\n",
    "plot_pie_chart('Missed Bets by Home-Away', ['Home', 'Away'], missed_bets_home)\n",
    "\n",
    "plot_bar('Profit by Team', 'Teams', 'Profit', money_by_team_labels, money_by_team_values)"
   ]
  },
  {
   "cell_type": "code",
   "execution_count": 881,
   "metadata": {},
   "outputs": [
    {
     "data": {
      "image/png": "[encoded data removed]",
      "text/plain": [
       "<Figure size 432x288 with 1 Axes>"
      ]
     },
     "metadata": {},
     "output_type": "display_data"
    }
   ],
   "source": [
    "xpoints = money_by_date[:,0].astype(np.datetime64)\n",
    "\n",
    "plt.gca().xaxis.set_major_formatter(mdates.DateFormatter('%Y-%m-%d'))\n",
    "plt.gca().xaxis.set_major_locator(mdates.DayLocator(interval=15))\n",
    "for model in models_tracking:\n",
    "    plt.plot(xpoints, model)\n",
    "plt.plot(xpoints, bets_tracking_odds)\n",
    "\n",
    "title = \"Profit by Date\"\n",
    "plt.legend([x['model'] for x in results] + ['Odds Baseline'], loc='lower left')\n",
    "plt.ylabel(\"Profit($)\")\n",
    "plt.xlabel(\"Date\")\n",
    "plt.title(title)\n",
    "plt.gcf().autofmt_xdate()\n",
    "plt.savefig('charts/{}.png'.format(title.replace(' ','_').lower()), dpi=300)\n",
    "plt.show()"
   ]
  }
 ],
 "metadata": {
  "kernelspec": {
   "display_name": "Python 3",
   "language": "python",
   "name": "python3"
  },
  "language_info": {
   "codemirror_mode": {
    "name": "ipython",
    "version": 3
   },
   "file_extension": ".py",
   "mimetype": "text/x-python",
   "name": "python",
   "nbconvert_exporter": "python",
   "pygments_lexer": "ipython3",
   "version": "3.8.5"
  }
 },
 "nbformat": 4,
 "nbformat_minor": 2
}
