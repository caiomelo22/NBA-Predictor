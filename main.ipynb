{
 "cells": [
  {
   "cell_type": "code",
   "execution_count": 45,
   "metadata": {},
   "outputs": [],
   "source": [
    "import sys  \n",
    "sys.path.insert(0, './machine_learning_models')\n",
    "\n",
    "from logistic_regression import logistic_regression\n",
    "from stochastic_gradient_descent import stochastic_gradient_descent\n",
    "from knn import knn\n",
    "from kernel_svm import kernel_svm\n",
    "from naive_bayes import naive_bayes\n",
    "from random_forest import random_forest\n",
    "from voting_classifier import voting_classifier\n",
    "import os\n",
    "import pandas as pd\n",
    "import numpy as np\n",
    "import matplotlib.pyplot as plt\n",
    "import datetime as dt\n",
    "import matplotlib.dates as mdates\n",
    "from sklearn.metrics import confusion_matrix, accuracy_score\n",
    "from keras.models import model_from_json\n",
    "import pickle\n",
    "import dill"
   ]
  },
  {
   "cell_type": "code",
   "execution_count": 46,
   "metadata": {},
   "outputs": [],
   "source": [
    "min_threshold = 1.75\n",
    "max_threshold = 3"
   ]
  },
  {
   "cell_type": "code",
   "execution_count": 47,
   "metadata": {},
   "outputs": [],
   "source": [
    "def plot_chart(title, x_label, y_label):\n",
    "    plt.ylabel(y_label)\n",
    "    plt.xlabel(x_label)\n",
    "    plt.title(title)\n",
    "    plt.savefig('charts/{}.png'.format(title.replace(' ','_').lower()), dpi=300)\n",
    "    plt.show()"
   ]
  },
  {
   "cell_type": "code",
   "execution_count": 48,
   "metadata": {},
   "outputs": [],
   "source": [
    "def plot_hist(title, x_label, y_label, data):\n",
    "    plt.hist(data, density=False, bins=20)  # density=False would make counts\n",
    "    plot_chart(title, x_label, y_label)\n",
    "    \n",
    "def plot_bar(title, x_label, y_label, x_data, y_data):\n",
    "    ax= plt.subplot()\n",
    "    plt.bar(x_data, y_data) \n",
    "    # plt.setp(ax.get_xticklabels(), rotation=30, ha='right')\n",
    "    plt.xticks(fontsize=10, rotation=90)\n",
    "    plot_chart(title, x_label, y_label)\n",
    "    \n",
    "def plot_pie_chart(title, labels, data):\n",
    "    data_converted = np.unique(data, return_counts=True)[1]\n",
    "    plt.pie(data_converted, labels = labels, startangle = 90, shadow = True, autopct='%.2f%%')\n",
    "    plt.title(title)\n",
    "    plt.savefig('charts/{}.png'.format(title.replace(' ','_').lower()), dpi=300)\n",
    "    plt.show() \n",
    "    "
   ]
  },
  {
   "cell_type": "code",
   "execution_count": 49,
   "metadata": {},
   "outputs": [],
   "source": [
    "def check_bet_worth(prediction, odds_a, odds_b, pred_odds_a, pred_odds_b):\n",
    "    return (prediction == 1 and (pred_odds_a < odds_a) and (game['ODDS_A'] > min_threshold and game['ODDS_A'] < max_threshold)) or (prediction == 0 and (pred_odds_b < odds_b) and (game['ODDS_B'] > min_threshold and game['ODDS_B'] < max_threshold))\n",
    "#     return (prediction == 1 and (game['ODDS_A'] > min_threshold and game['ODDS_A'] < max_threshold)) or (prediction == 0 and (game['ODDS_B'] > min_threshold and game['ODDS_B'] < max_threshold))"
   ]
  },
  {
   "cell_type": "code",
   "execution_count": 50,
   "metadata": {},
   "outputs": [],
   "source": [
    "def check_game_with_odds(game, bet_value, pred_odds_a, pred_odds_b):\n",
    "    game_money = 0\n",
    "    prediction = game['ODDS_A'] <= game['ODDS_B']\n",
    "    if check_bet_worth(prediction, game['ODDS_A'], game['ODDS_B'], pred_odds_a, pred_odds_b):\n",
    "        if game['WINNER'] == prediction and game['WINNER'] == 1:\n",
    "            game_money = (bet_value*game['ODDS_A'] - bet_value)\n",
    "        elif game['WINNER'] == prediction and game['WINNER'] == 0:\n",
    "            game_money = (bet_value*game['ODDS_B'] - bet_value)\n",
    "        else:\n",
    "            game_money = -bet_value\n",
    "    return game_money"
   ]
  },
  {
   "cell_type": "code",
   "execution_count": 51,
   "metadata": {},
   "outputs": [],
   "source": [
    "def check_model_performance_on_game(game, prediction, bet_value, pred_odds_a, pred_odds_b):\n",
    "    game_money = 0\n",
    "    if check_bet_worth(prediction, game['ODDS_A'], game['ODDS_B'], pred_odds_a, pred_odds_b):\n",
    "        if game['WINNER'] == prediction and game['WINNER'] == 1:\n",
    "            game_money = (bet_value*game['ODDS_A'] - bet_value)\n",
    "        elif game['WINNER'] == prediction and game['WINNER'] == 0:\n",
    "            game_money = (bet_value*game['ODDS_B'] - bet_value)\n",
    "        else:\n",
    "            game_money = -bet_value\n",
    "    return game_money"
   ]
  },
  {
   "cell_type": "code",
   "execution_count": 52,
   "metadata": {},
   "outputs": [],
   "source": [
    "def get_bet_value(prob):\n",
    "#     bet_value = 0 \n",
    "#     if prob >= 0.5:\n",
    "#         bet_value = 10*prob\n",
    "#     else:\n",
    "#         bet_value = 10*abs(1-prob)\n",
    "    bet_value = 10\n",
    "    return bet_value\n",
    "    "
   ]
  },
  {
   "cell_type": "code",
   "execution_count": 778,
   "metadata": {},
   "outputs": [
    {
     "name": "stdout",
     "output_type": "stream",
     "text": [
      "\n",
      "Getting data for the model...\n"
     ]
    }
   ],
   "source": [
    "print('\\nGetting data for the model...')\n",
    "\n",
    "season_file = '2008-2021'\n",
    "\n",
    "first_season_train = 20000 + 2012\n",
    "last_season_train = 20000 + 2020\n",
    "\n",
    "season = \"{}-{}\".format(first_season_train-20000, last_season_train-20000)\n",
    "\n",
    "whole_dataset = pd.read_csv('./data/{}.csv'.format(season_file))\n",
    "\n",
    "dataset_train = whole_dataset.loc[(whole_dataset['SEASON_ID'] >= first_season_train) & (whole_dataset['SEASON_ID'] <= last_season_train)].reset_index(drop=True)\n",
    "\n",
    "first_season_test = 20000 + 2021\n",
    "last_season_test = 20000 + 2021\n",
    "\n",
    "dataset = whole_dataset.loc[(whole_dataset['SEASON_ID'] >= first_season_test) & (whole_dataset['SEASON_ID'] <= last_season_test)].reset_index(drop=True)\n",
    "\n",
    "# Playoffs testing\n",
    "# season_test = '2008-2020'\n",
    "# whole_dataset_test = pd.read_csv('./data/playoffs/{}.csv'.format(season_test))\n",
    "# dataset = whole_dataset_test.loc[(whole_dataset_test['SEASON_ID'] >= (first_season_test - 20000)) & (whole_dataset_test['SEASON_ID'] <= (last_season_test - 20000))].reset_index(drop=True)\n",
    "\n",
    "results = []\n",
    "\n",
    "X_train = dataset_train.iloc[:, 5:-1].values\n",
    "X = dataset.iloc[:, 5:-1].values\n",
    "y = dataset.iloc[:, -1].values"
   ]
  },
  {
   "cell_type": "code",
   "execution_count": 779,
   "metadata": {},
   "outputs": [
    {
     "data": {
      "text/html": [
       "<div>\n",
       "<style scoped>\n",
       "    .dataframe tbody tr th:only-of-type {\n",
       "        vertical-align: middle;\n",
       "    }\n",
       "\n",
       "    .dataframe tbody tr th {\n",
       "        vertical-align: top;\n",
       "    }\n",
       "\n",
       "    .dataframe thead th {\n",
       "        text-align: right;\n",
       "    }\n",
       "</style>\n",
       "<table border=\"1\" class=\"dataframe\">\n",
       "  <thead>\n",
       "    <tr style=\"text-align: right;\">\n",
       "      <th></th>\n",
       "      <th>Unnamed: 0</th>\n",
       "      <th>SEASON_ID</th>\n",
       "      <th>GAME_DATE</th>\n",
       "      <th>TEAM_A</th>\n",
       "      <th>TEAM_B</th>\n",
       "      <th>PTS_A</th>\n",
       "      <th>PTS_CON_A</th>\n",
       "      <th>FG_PCT_A</th>\n",
       "      <th>FG3_PCT_A</th>\n",
       "      <th>FT_PCT_A</th>\n",
       "      <th>...</th>\n",
       "      <th>FG_PCT_B</th>\n",
       "      <th>FG3_PCT_B</th>\n",
       "      <th>FT_PCT_B</th>\n",
       "      <th>REB_B</th>\n",
       "      <th>TOV_B</th>\n",
       "      <th>SEASON_B_PCT</th>\n",
       "      <th>PER_B</th>\n",
       "      <th>ODDS_B</th>\n",
       "      <th>ELO_B</th>\n",
       "      <th>WINNER</th>\n",
       "    </tr>\n",
       "  </thead>\n",
       "  <tbody>\n",
       "    <tr>\n",
       "      <th>10034</th>\n",
       "      <td>14315</td>\n",
       "      <td>22020</td>\n",
       "      <td>2021-05-16</td>\n",
       "      <td>MIN</td>\n",
       "      <td>DAL</td>\n",
       "      <td>118.6</td>\n",
       "      <td>115.9</td>\n",
       "      <td>0.4623</td>\n",
       "      <td>0.3358</td>\n",
       "      <td>0.7023</td>\n",
       "      <td>...</td>\n",
       "      <td>0.4762</td>\n",
       "      <td>0.3702</td>\n",
       "      <td>0.8101</td>\n",
       "      <td>41.8</td>\n",
       "      <td>11.8</td>\n",
       "      <td>0.591549</td>\n",
       "      <td>22.370110</td>\n",
       "      <td>1.37</td>\n",
       "      <td>1581.329604</td>\n",
       "      <td>1</td>\n",
       "    </tr>\n",
       "    <tr>\n",
       "      <th>10035</th>\n",
       "      <td>14316</td>\n",
       "      <td>22020</td>\n",
       "      <td>2021-05-16</td>\n",
       "      <td>WAS</td>\n",
       "      <td>CHA</td>\n",
       "      <td>127.4</td>\n",
       "      <td>121.2</td>\n",
       "      <td>0.4938</td>\n",
       "      <td>0.3705</td>\n",
       "      <td>0.8120</td>\n",
       "      <td>...</td>\n",
       "      <td>0.4406</td>\n",
       "      <td>0.3332</td>\n",
       "      <td>0.6981</td>\n",
       "      <td>45.4</td>\n",
       "      <td>13.0</td>\n",
       "      <td>0.464789</td>\n",
       "      <td>19.021417</td>\n",
       "      <td>3.28</td>\n",
       "      <td>1437.083206</td>\n",
       "      <td>1</td>\n",
       "    </tr>\n",
       "    <tr>\n",
       "      <th>10036</th>\n",
       "      <td>14317</td>\n",
       "      <td>22020</td>\n",
       "      <td>2021-05-16</td>\n",
       "      <td>TOR</td>\n",
       "      <td>IND</td>\n",
       "      <td>107.3</td>\n",
       "      <td>114.5</td>\n",
       "      <td>0.4408</td>\n",
       "      <td>0.3577</td>\n",
       "      <td>0.7316</td>\n",
       "      <td>...</td>\n",
       "      <td>0.5031</td>\n",
       "      <td>0.3947</td>\n",
       "      <td>0.8224</td>\n",
       "      <td>43.8</td>\n",
       "      <td>14.0</td>\n",
       "      <td>0.464789</td>\n",
       "      <td>21.342337</td>\n",
       "      <td>1.42</td>\n",
       "      <td>1477.631814</td>\n",
       "      <td>0</td>\n",
       "    </tr>\n",
       "    <tr>\n",
       "      <th>10037</th>\n",
       "      <td>14318</td>\n",
       "      <td>22020</td>\n",
       "      <td>2021-05-16</td>\n",
       "      <td>OKC</td>\n",
       "      <td>LAC</td>\n",
       "      <td>101.9</td>\n",
       "      <td>121.3</td>\n",
       "      <td>0.4148</td>\n",
       "      <td>0.3143</td>\n",
       "      <td>0.7156</td>\n",
       "      <td>...</td>\n",
       "      <td>0.4748</td>\n",
       "      <td>0.3791</td>\n",
       "      <td>0.8720</td>\n",
       "      <td>43.8</td>\n",
       "      <td>15.6</td>\n",
       "      <td>0.661972</td>\n",
       "      <td>9.889166</td>\n",
       "      <td>1.30</td>\n",
       "      <td>1633.250416</td>\n",
       "      <td>1</td>\n",
       "    </tr>\n",
       "    <tr>\n",
       "      <th>10038</th>\n",
       "      <td>14319</td>\n",
       "      <td>22020</td>\n",
       "      <td>2021-05-16</td>\n",
       "      <td>NOP</td>\n",
       "      <td>LAL</td>\n",
       "      <td>113.5</td>\n",
       "      <td>115.5</td>\n",
       "      <td>0.4483</td>\n",
       "      <td>0.3227</td>\n",
       "      <td>0.7034</td>\n",
       "      <td>...</td>\n",
       "      <td>0.4611</td>\n",
       "      <td>0.3592</td>\n",
       "      <td>0.7020</td>\n",
       "      <td>43.4</td>\n",
       "      <td>14.8</td>\n",
       "      <td>0.577465</td>\n",
       "      <td>21.743538</td>\n",
       "      <td>1.22</td>\n",
       "      <td>1547.269577</td>\n",
       "      <td>0</td>\n",
       "    </tr>\n",
       "  </tbody>\n",
       "</table>\n",
       "<p>5 rows × 28 columns</p>\n",
       "</div>"
      ],
      "text/plain": [
       "       Unnamed: 0  SEASON_ID   GAME_DATE TEAM_A TEAM_B  PTS_A  PTS_CON_A  \\\n",
       "10034       14315      22020  2021-05-16    MIN    DAL  118.6      115.9   \n",
       "10035       14316      22020  2021-05-16    WAS    CHA  127.4      121.2   \n",
       "10036       14317      22020  2021-05-16    TOR    IND  107.3      114.5   \n",
       "10037       14318      22020  2021-05-16    OKC    LAC  101.9      121.3   \n",
       "10038       14319      22020  2021-05-16    NOP    LAL  113.5      115.5   \n",
       "\n",
       "       FG_PCT_A  FG3_PCT_A  FT_PCT_A  ...  FG_PCT_B  FG3_PCT_B  FT_PCT_B  \\\n",
       "10034    0.4623     0.3358    0.7023  ...    0.4762     0.3702    0.8101   \n",
       "10035    0.4938     0.3705    0.8120  ...    0.4406     0.3332    0.6981   \n",
       "10036    0.4408     0.3577    0.7316  ...    0.5031     0.3947    0.8224   \n",
       "10037    0.4148     0.3143    0.7156  ...    0.4748     0.3791    0.8720   \n",
       "10038    0.4483     0.3227    0.7034  ...    0.4611     0.3592    0.7020   \n",
       "\n",
       "       REB_B  TOV_B  SEASON_B_PCT      PER_B  ODDS_B        ELO_B  WINNER  \n",
       "10034   41.8   11.8      0.591549  22.370110    1.37  1581.329604       1  \n",
       "10035   45.4   13.0      0.464789  19.021417    3.28  1437.083206       1  \n",
       "10036   43.8   14.0      0.464789  21.342337    1.42  1477.631814       0  \n",
       "10037   43.8   15.6      0.661972   9.889166    1.30  1633.250416       1  \n",
       "10038   43.4   14.8      0.577465  21.743538    1.22  1547.269577       0  \n",
       "\n",
       "[5 rows x 28 columns]"
      ]
     },
     "execution_count": 779,
     "metadata": {},
     "output_type": "execute_result"
    }
   ],
   "source": [
    "dataset_train.tail()"
   ]
  },
  {
   "cell_type": "code",
   "execution_count": 780,
   "metadata": {},
   "outputs": [
    {
     "data": {
      "text/html": [
       "<div>\n",
       "<style scoped>\n",
       "    .dataframe tbody tr th:only-of-type {\n",
       "        vertical-align: middle;\n",
       "    }\n",
       "\n",
       "    .dataframe tbody tr th {\n",
       "        vertical-align: top;\n",
       "    }\n",
       "\n",
       "    .dataframe thead th {\n",
       "        text-align: right;\n",
       "    }\n",
       "</style>\n",
       "<table border=\"1\" class=\"dataframe\">\n",
       "  <thead>\n",
       "    <tr style=\"text-align: right;\">\n",
       "      <th></th>\n",
       "      <th>Unnamed: 0</th>\n",
       "      <th>SEASON_ID</th>\n",
       "      <th>GAME_DATE</th>\n",
       "      <th>TEAM_A</th>\n",
       "      <th>TEAM_B</th>\n",
       "      <th>PTS_A</th>\n",
       "      <th>PTS_CON_A</th>\n",
       "      <th>FG_PCT_A</th>\n",
       "      <th>FG3_PCT_A</th>\n",
       "      <th>FT_PCT_A</th>\n",
       "      <th>...</th>\n",
       "      <th>FG_PCT_B</th>\n",
       "      <th>FG3_PCT_B</th>\n",
       "      <th>FT_PCT_B</th>\n",
       "      <th>REB_B</th>\n",
       "      <th>TOV_B</th>\n",
       "      <th>SEASON_B_PCT</th>\n",
       "      <th>PER_B</th>\n",
       "      <th>ODDS_B</th>\n",
       "      <th>ELO_B</th>\n",
       "      <th>WINNER</th>\n",
       "    </tr>\n",
       "  </thead>\n",
       "  <tbody>\n",
       "    <tr>\n",
       "      <th>0</th>\n",
       "      <td>14320</td>\n",
       "      <td>22021</td>\n",
       "      <td>2021-10-29</td>\n",
       "      <td>TOR</td>\n",
       "      <td>ORL</td>\n",
       "      <td>103.8</td>\n",
       "      <td>99.0</td>\n",
       "      <td>0.4142</td>\n",
       "      <td>0.3312</td>\n",
       "      <td>0.7710</td>\n",
       "      <td>...</td>\n",
       "      <td>0.4220</td>\n",
       "      <td>0.3264</td>\n",
       "      <td>0.7632</td>\n",
       "      <td>43.8</td>\n",
       "      <td>17.0</td>\n",
       "      <td>0.2</td>\n",
       "      <td>16.510804</td>\n",
       "      <td>4.41</td>\n",
       "      <td>1332.194467</td>\n",
       "      <td>1</td>\n",
       "    </tr>\n",
       "    <tr>\n",
       "      <th>1</th>\n",
       "      <td>14321</td>\n",
       "      <td>22021</td>\n",
       "      <td>2021-10-29</td>\n",
       "      <td>BKN</td>\n",
       "      <td>IND</td>\n",
       "      <td>102.0</td>\n",
       "      <td>108.6</td>\n",
       "      <td>0.4314</td>\n",
       "      <td>0.3432</td>\n",
       "      <td>0.7968</td>\n",
       "      <td>...</td>\n",
       "      <td>0.4640</td>\n",
       "      <td>0.3586</td>\n",
       "      <td>0.8186</td>\n",
       "      <td>47.0</td>\n",
       "      <td>17.4</td>\n",
       "      <td>0.2</td>\n",
       "      <td>13.474423</td>\n",
       "      <td>4.24</td>\n",
       "      <td>1474.327643</td>\n",
       "      <td>1</td>\n",
       "    </tr>\n",
       "    <tr>\n",
       "      <th>2</th>\n",
       "      <td>14322</td>\n",
       "      <td>22021</td>\n",
       "      <td>2021-10-29</td>\n",
       "      <td>LAL</td>\n",
       "      <td>CLE</td>\n",
       "      <td>116.0</td>\n",
       "      <td>119.6</td>\n",
       "      <td>0.4762</td>\n",
       "      <td>0.3824</td>\n",
       "      <td>0.7090</td>\n",
       "      <td>...</td>\n",
       "      <td>0.4606</td>\n",
       "      <td>0.2676</td>\n",
       "      <td>0.7930</td>\n",
       "      <td>46.4</td>\n",
       "      <td>15.4</td>\n",
       "      <td>0.6</td>\n",
       "      <td>16.884168</td>\n",
       "      <td>3.84</td>\n",
       "      <td>1411.865201</td>\n",
       "      <td>1</td>\n",
       "    </tr>\n",
       "    <tr>\n",
       "      <th>3</th>\n",
       "      <td>14323</td>\n",
       "      <td>22021</td>\n",
       "      <td>2021-10-30</td>\n",
       "      <td>MEM</td>\n",
       "      <td>MIA</td>\n",
       "      <td>114.0</td>\n",
       "      <td>114.6</td>\n",
       "      <td>0.4428</td>\n",
       "      <td>0.3604</td>\n",
       "      <td>0.8294</td>\n",
       "      <td>...</td>\n",
       "      <td>0.4512</td>\n",
       "      <td>0.2914</td>\n",
       "      <td>0.8696</td>\n",
       "      <td>55.4</td>\n",
       "      <td>15.4</td>\n",
       "      <td>0.8</td>\n",
       "      <td>15.598563</td>\n",
       "      <td>2.40</td>\n",
       "      <td>1587.938377</td>\n",
       "      <td>0</td>\n",
       "    </tr>\n",
       "    <tr>\n",
       "      <th>4</th>\n",
       "      <td>14324</td>\n",
       "      <td>22021</td>\n",
       "      <td>2021-10-30</td>\n",
       "      <td>WAS</td>\n",
       "      <td>BOS</td>\n",
       "      <td>112.2</td>\n",
       "      <td>107.8</td>\n",
       "      <td>0.4578</td>\n",
       "      <td>0.3316</td>\n",
       "      <td>0.8078</td>\n",
       "      <td>...</td>\n",
       "      <td>0.4344</td>\n",
       "      <td>0.3472</td>\n",
       "      <td>0.7854</td>\n",
       "      <td>46.2</td>\n",
       "      <td>16.0</td>\n",
       "      <td>0.4</td>\n",
       "      <td>17.809523</td>\n",
       "      <td>2.11</td>\n",
       "      <td>1478.003335</td>\n",
       "      <td>1</td>\n",
       "    </tr>\n",
       "  </tbody>\n",
       "</table>\n",
       "<p>5 rows × 28 columns</p>\n",
       "</div>"
      ],
      "text/plain": [
       "   Unnamed: 0  SEASON_ID   GAME_DATE TEAM_A TEAM_B  PTS_A  PTS_CON_A  \\\n",
       "0       14320      22021  2021-10-29    TOR    ORL  103.8       99.0   \n",
       "1       14321      22021  2021-10-29    BKN    IND  102.0      108.6   \n",
       "2       14322      22021  2021-10-29    LAL    CLE  116.0      119.6   \n",
       "3       14323      22021  2021-10-30    MEM    MIA  114.0      114.6   \n",
       "4       14324      22021  2021-10-30    WAS    BOS  112.2      107.8   \n",
       "\n",
       "   FG_PCT_A  FG3_PCT_A  FT_PCT_A  ...  FG_PCT_B  FG3_PCT_B  FT_PCT_B  REB_B  \\\n",
       "0    0.4142     0.3312    0.7710  ...    0.4220     0.3264    0.7632   43.8   \n",
       "1    0.4314     0.3432    0.7968  ...    0.4640     0.3586    0.8186   47.0   \n",
       "2    0.4762     0.3824    0.7090  ...    0.4606     0.2676    0.7930   46.4   \n",
       "3    0.4428     0.3604    0.8294  ...    0.4512     0.2914    0.8696   55.4   \n",
       "4    0.4578     0.3316    0.8078  ...    0.4344     0.3472    0.7854   46.2   \n",
       "\n",
       "   TOV_B  SEASON_B_PCT      PER_B  ODDS_B        ELO_B  WINNER  \n",
       "0   17.0           0.2  16.510804    4.41  1332.194467       1  \n",
       "1   17.4           0.2  13.474423    4.24  1474.327643       1  \n",
       "2   15.4           0.6  16.884168    3.84  1411.865201       1  \n",
       "3   15.4           0.8  15.598563    2.40  1587.938377       0  \n",
       "4   16.0           0.4  17.809523    2.11  1478.003335       1  \n",
       "\n",
       "[5 rows x 28 columns]"
      ]
     },
     "execution_count": 780,
     "metadata": {},
     "output_type": "execute_result"
    }
   ],
   "source": [
    "dataset.head()"
   ]
  },
  {
   "cell_type": "code",
   "execution_count": 781,
   "metadata": {},
   "outputs": [],
   "source": [
    "directory = \"models/{}\".format(season)\n",
    "if not os.path.exists(directory):\n",
    "    os.makedirs(directory)"
   ]
  },
  {
   "cell_type": "code",
   "execution_count": 782,
   "metadata": {},
   "outputs": [
    {
     "name": "stdout",
     "output_type": "stream",
     "text": [
      "\n",
      "Executing the logistic Regression model...\n"
     ]
    }
   ],
   "source": [
    "print('\\nExecuting the logistic Regression model...')\n",
    "Pkl_Filename = \"{}/LogisticRegressionModel.pkl\".format(directory)\n",
    "try:\n",
    "    with open(Pkl_Filename, 'rb') as file:  \n",
    "        logisticRegression = pickle.load(file)\n",
    "except:\n",
    "    logisticRegression = logistic_regression(dataset_train)\n",
    "    with open(Pkl_Filename, 'wb') as file:  \n",
    "        pickle.dump(logisticRegression, file)\n",
    "results.append(dict(model='Logistic Regression',cm=logisticRegression[0], acc=logisticRegression[1], classifier=logisticRegression[2]))\n"
   ]
  },
  {
   "cell_type": "code",
   "execution_count": 783,
   "metadata": {},
   "outputs": [
    {
     "name": "stdout",
     "output_type": "stream",
     "text": [
      "\n",
      "Executing the Stochastic Gradient Descent model...\n"
     ]
    }
   ],
   "source": [
    "print('\\nExecuting the Stochastic Gradient Descent model...')\n",
    "Pkl_Filename = \"{}/StochasticGradientDescent.pkl\".format(directory)\n",
    "try:\n",
    "    with open(Pkl_Filename, 'rb') as file:  \n",
    "        sgd = pickle.load(file)\n",
    "except:\n",
    "    sgd = stochastic_gradient_descent(dataset_train)\n",
    "    with open(Pkl_Filename, 'wb') as file:  \n",
    "        pickle.dump(sgd, file)\n",
    "results.append(dict(model='Stochastic Gradient Descent',cm=sgd[0], acc=sgd[1], classifier=sgd[2]))\n"
   ]
  },
  {
   "cell_type": "code",
   "execution_count": 784,
   "metadata": {},
   "outputs": [
    {
     "name": "stdout",
     "output_type": "stream",
     "text": [
      "\n",
      "Executing the KNN model...\n"
     ]
    }
   ],
   "source": [
    "print('\\nExecuting the KNN model...')\n",
    "Pkl_Filename = \"{}/KNN.pkl\".format(directory)\n",
    "try:\n",
    "    with open(Pkl_Filename, 'rb') as file:  \n",
    "        knn_model = pickle.load(file)\n",
    "except:\n",
    "    knn_model = knn(dataset_train)\n",
    "    with open(Pkl_Filename, 'wb') as file:  \n",
    "        pickle.dump(knn_model, file)\n",
    "results.append(dict(model='KNN',cm=knn_model[0], acc=knn_model[1], classifier=knn_model[2]))\n"
   ]
  },
  {
   "cell_type": "code",
   "execution_count": 785,
   "metadata": {},
   "outputs": [
    {
     "name": "stdout",
     "output_type": "stream",
     "text": [
      "Executing the Kernel SVM model...\n"
     ]
    }
   ],
   "source": [
    "print('Executing the Kernel SVM model...')\n",
    "Pkl_Filename = \"{}/KernelSVM.pkl\".format(directory)\n",
    "try:\n",
    "    with open(Pkl_Filename, 'rb') as file:  \n",
    "        svm = pickle.load(file)\n",
    "except:\n",
    "    svm = kernel_svm(dataset_train)\n",
    "    with open(Pkl_Filename, 'wb') as file:  \n",
    "        pickle.dump(svm, file)\n",
    "results.append(dict(model='Kernel SVM',cm=svm[0], acc=svm[1], classifier=svm[2]))"
   ]
  },
  {
   "cell_type": "code",
   "execution_count": 786,
   "metadata": {},
   "outputs": [
    {
     "name": "stdout",
     "output_type": "stream",
     "text": [
      "Executing the Naive Bayes model...\n"
     ]
    }
   ],
   "source": [
    "print('Executing the Naive Bayes model...')\n",
    "Pkl_Filename = \"{}/NaiveBayes.pkl\".format(directory)\n",
    "try:\n",
    "    with open(Pkl_Filename, 'rb') as file:  \n",
    "        nb = pickle.load(file)\n",
    "except:\n",
    "    nb = naive_bayes(dataset_train)\n",
    "    with open(Pkl_Filename, 'wb') as file:  \n",
    "        pickle.dump(nb, file)\n",
    "results.append(dict(model='Naive Bayes',cm=nb[0], acc=nb[1], classifier=nb[2]))"
   ]
  },
  {
   "cell_type": "code",
   "execution_count": 787,
   "metadata": {},
   "outputs": [
    {
     "name": "stdout",
     "output_type": "stream",
     "text": [
      "Executing the Random Forest model...\n"
     ]
    }
   ],
   "source": [
    "print('Executing the Random Forest model...')\n",
    "Pkl_Filename = \"{}/RandomForest.pkl\".format(directory)\n",
    "try:\n",
    "    with open(Pkl_Filename, 'rb') as file:  \n",
    "        rf = pickle.load(file)\n",
    "except:\n",
    "    rf = random_forest(dataset_train)\n",
    "    with open(Pkl_Filename, 'wb') as file:  \n",
    "        pickle.dump(rf, file)\n",
    "results.append(dict(model='Random Forest',cm=rf[0], acc=rf[1], classifier=rf[2]))"
   ]
  },
  {
   "cell_type": "code",
   "execution_count": 788,
   "metadata": {},
   "outputs": [
    {
     "name": "stdout",
     "output_type": "stream",
     "text": [
      "Executing the Voting Classifier model...\n"
     ]
    }
   ],
   "source": [
    "print('Executing the Voting Classifier model...')\n",
    "Pkl_Filename = \"{}/VotingClassifier.pkl\".format(directory)\n",
    "\n",
    "estimators = [('lr', logisticRegression[2]), ('svm', svm[2]), ('nb', nb[2]), ('sgd', sgd[2])]\n",
    "weights = [1,1,1,1]\n",
    "\n",
    "try:\n",
    "    with open(Pkl_Filename, 'rb') as file:  \n",
    "        vc = pickle.load(file)\n",
    "except:\n",
    "    vc = voting_classifier(dataset, estimators, weights)\n",
    "    with open(Pkl_Filename, 'wb') as file:  \n",
    "        pickle.dump(vc, file)\n",
    "results.append(dict(model='Voting Classifier',cm=vc[0], acc=vc[1], classifier=vc[2]))"
   ]
  },
  {
   "cell_type": "code",
   "execution_count": 789,
   "metadata": {},
   "outputs": [
    {
     "name": "stdout",
     "output_type": "stream",
     "text": [
      "\n",
      "Getting the feature correlation matrix...\n"
     ]
    },
    {
     "data": {
      "image/png": "[encoded data removed]",
      "text/plain": [
       "<Figure size 936x936 with 2 Axes>"
      ]
     },
     "metadata": {},
     "output_type": "display_data"
    }
   ],
   "source": [
    "print('\\nGetting the feature correlation matrix...')\n",
    "\n",
    "import seaborn as sns\n",
    "\n",
    "try:\n",
    "    dependent_variables = dataset.iloc[:,5:20]\n",
    "    corrmat = dependent_variables.corr()\n",
    "    top_corr_features = corrmat.index\n",
    "    plt.figure(figsize=(13,13))\n",
    "    title = 'Feature Correlation'\n",
    "    plt.title(title)\n",
    "    #plot heat map\n",
    "    sns.set(font_scale=0.6)\n",
    "    g=sns.heatmap(dependent_variables.corr(),annot=True,cmap='Blues', fmt='0.1g')\n",
    "    plt.savefig('charts/{}.png'.format(title.replace(' ','_').lower()), dpi=300)\n",
    "    plt.show()\n",
    "except:\n",
    "    print('No correlation matrix for the selected model.')"
   ]
  },
  {
   "cell_type": "code",
   "execution_count": 790,
   "metadata": {},
   "outputs": [],
   "source": [
    "directory = \"scalers\"\n",
    "if not os.path.exists(directory):\n",
    "    os.makedirs(directory)\n",
    "\n",
    "from sklearn.preprocessing import StandardScaler\n",
    "sc_train = StandardScaler()\n",
    "sc_train.fit(X_train)\n",
    "\n",
    "Pkl_ScalerName = \"{}/{}.pkl\".format(directory, season)\n",
    "with open(Pkl_ScalerName, 'wb') as file:  \n",
    "    pickle.dump(sc_train, file)\n",
    "\n",
    "X_transformed = sc_train.transform(X)"
   ]
  },
  {
   "cell_type": "code",
   "execution_count": 791,
   "metadata": {},
   "outputs": [
    {
     "name": "stdout",
     "output_type": "stream",
     "text": [
      "\n",
      "Getting classification model with the best predictions...\n",
      "Using predictions from Logistic Regression model: 0.6734883720930233\n",
      "Using predictions from Random Forest model: 0.68\n",
      "Using predictions from Voting Classifier model: 0.6874418604651162\n"
     ]
    }
   ],
   "source": [
    "print('\\nGetting classification model with the best predictions...')\n",
    "\n",
    "modelCont = 0\n",
    "highestAcc = 0\n",
    "probs = dict()\n",
    "total_invested = dict()\n",
    "while True:\n",
    "    try:\n",
    "        total_invested[results[modelCont]['model']] = 0\n",
    "        results[modelCont]['pred'] = results[modelCont]['classifier'].predict(X_transformed)\n",
    "        probs[results[modelCont]['model']] = results[modelCont]['classifier'].predict_proba(X_transformed)\n",
    "        results[modelCont]['acc_test'] = accuracy_score(y, results[modelCont]['pred'])\n",
    "        if results[modelCont]['acc_test'] > highestAcc:\n",
    "            y_pred = results[modelCont]['pred']\n",
    "            highestAcc = results[modelCont]['acc_test']\n",
    "            print('Using predictions from {} model: {}'.format(results[modelCont]['model'], results[modelCont]['acc_test']))\n",
    "        modelCont += 1\n",
    "    except IndexError:\n",
    "        break\n",
    "\n",
    "results.sort(key=lambda x: x['acc_test'], reverse=True)"
   ]
  },
  {
   "cell_type": "code",
   "execution_count": 792,
   "metadata": {},
   "outputs": [
    {
     "name": "stdout",
     "output_type": "stream",
     "text": [
      "\n",
      "Results Classification:\n",
      "Voting Classifier:\t0.6874\n",
      "Random Forest:\t0.6800\n",
      "Logistic Regression:\t0.6735\n",
      "Stochastic Gradient Descent:\t0.6716\n",
      "Naive Bayes:\t0.6633\n",
      "Kernel SVM:\t0.6623\n",
      "KNN:\t0.6381\n",
      "Baseline Odds:\t67.7209\n"
     ]
    }
   ],
   "source": [
    "odds_baseline = dataset[((dataset['ODDS_A'] <= dataset['ODDS_B']) & (dataset['WINNER'] == 1)) | \n",
    "                   ((dataset['ODDS_B'] < dataset['ODDS_A']) & (dataset['WINNER'] == 0))]\n",
    "\n",
    "print('\\nResults Classification:')\n",
    "results.sort(key=lambda x: x['acc_test'], reverse=True)\n",
    "[print('{}:\\t{:.4f}'.format(x['model'], x['acc_test'])) for x in results]\n",
    "print('Baseline Odds:\\t{:.4f}'.format(100*len(odds_baseline.index)/len(dataset.index)))"
   ]
  },
  {
   "cell_type": "code",
   "execution_count": 793,
   "metadata": {},
   "outputs": [
    {
     "name": "stdout",
     "output_type": "stream",
     "text": [
      "\n",
      "Getting the probabilities of the best model possible...\n",
      "Using the Voting Classifier model for probability tracking!\n"
     ]
    }
   ],
   "source": [
    "print('\\nGetting the probabilities of the best model possible...')\n",
    "\n",
    "for res in results:\n",
    "    try:\n",
    "        y_prob = res['classifier'].predict_proba(X_transformed)\n",
    "        print('Using the {} model for probability tracking!'.format(res['model']))\n",
    "        break\n",
    "    except AttributeError:\n",
    "        continue"
   ]
  },
  {
   "cell_type": "code",
   "execution_count": 794,
   "metadata": {},
   "outputs": [
    {
     "name": "stdout",
     "output_type": "stream",
     "text": [
      "\n",
      "Displaying data for the Voting Classifier model...\n",
      "[[324 163]\n",
      " [173 415]]\n",
      "0.6874418604651162\n"
     ]
    }
   ],
   "source": [
    "print('\\nDisplaying data for the {} model...'.format(results[0]['model']))\n",
    "cm = confusion_matrix(y.ravel(), y_pred.ravel())\n",
    "acc_score = accuracy_score(y, y_pred)\n",
    "print(cm)\n",
    "print(acc_score)"
   ]
  },
  {
   "cell_type": "code",
   "execution_count": 795,
   "metadata": {},
   "outputs": [],
   "source": [
    "right = 0\n",
    "total = 0"
   ]
  },
  {
   "cell_type": "code",
   "execution_count": 796,
   "metadata": {},
   "outputs": [],
   "source": [
    "def get_pred_odds(prob_a):\n",
    "    pred_odds_a = 1/prob_a\n",
    "    pred_odds_b = 1/(1-prob_a)\n",
    "    return pred_odds_a, pred_odds_b"
   ]
  },
  {
   "cell_type": "code",
   "execution_count": 797,
   "metadata": {},
   "outputs": [
    {
     "name": "stdout",
     "output_type": "stream",
     "text": [
      "\n",
      "Getting data from the regular models for visualization...\n"
     ]
    },
    {
     "name": "stderr",
     "output_type": "stream",
     "text": [
      "<ipython-input-796-eb8f0fc17bd4>:3: RuntimeWarning: divide by zero encountered in double_scalars\n",
      "  pred_odds_b = 1/(1-prob_a)\n"
     ]
    }
   ],
   "source": [
    "print(\"\\nGetting data from the regular models for visualization...\")\n",
    "profit = 0\n",
    "money_by_date = []\n",
    "bets_tracking_odds = [0]\n",
    "money_by_team = dict()\n",
    "bets = []\n",
    "money_by_date.append([dataset.iloc[0,2], dict(zip([x['model'] for x in results], [0 for x in results])),  dict(zip([x['model'] for x in results], [0 for x in results]))])\n",
    "\n",
    "for index, game in dataset.iterrows():\n",
    "    if game['GAME_DATE'] != money_by_date[-1][0]:    \n",
    "        bets_tracking_odds.append(bets_tracking_odds[-1])\n",
    "        money_by_date.append([game['GAME_DATE'],  dict(zip([x['model'] for x in results], [0 for x in results])), dict(money_by_date[-1][2])])\n",
    "\n",
    "    game_money = 0\n",
    "    bet_value = get_bet_value(y_prob[index,0])\n",
    "    \n",
    "    if game['TEAM_A'] not in money_by_team:\n",
    "        money_by_team[game['TEAM_A']] = 0\n",
    "    if game['TEAM_B'] not in money_by_team:\n",
    "        money_by_team[game['TEAM_B']] = 0\n",
    "    \n",
    "    pred_odds_a, pred_odds_b = get_pred_odds(y_prob[index,0])\n",
    "\n",
    "    game_money = check_model_performance_on_game(game, y_pred[index], bet_value, pred_odds_a, pred_odds_b)\n",
    "    if game_money != 0:\n",
    "        if game['WINNER'] == y_pred[index] and game['WINNER'] == 1:\n",
    "            bets.append(['A', game['ODDS_A'], y_prob[index,1], 1])\n",
    "            money_by_team[game['TEAM_A']] += game_money\n",
    "        elif game['WINNER'] == y_pred[index] and game['WINNER'] == 0:\n",
    "            bets.append(['B', game['ODDS_B'], y_prob[index,0], 1])\n",
    "            money_by_team[game['TEAM_B']] += game_money\n",
    "        else:\n",
    "            if y_pred[index] == 1:\n",
    "                bets.append(['A', game['ODDS_A'], y_prob[index,1], 0])\n",
    "                money_by_team[game['TEAM_A']] += game_money\n",
    "            else:\n",
    "                bets.append(['B', game['ODDS_B'], y_prob[index,0], 0])\n",
    "                money_by_team[game['TEAM_B']] += game_money\n",
    "\n",
    "        if game_money > 0:\n",
    "            right += 1\n",
    "        total += 1\n",
    "        \n",
    "    profit += game_money\n",
    "    bets_tracking_odds[-1] += check_game_with_odds(game, bet_value, pred_odds_a, pred_odds_b)\n",
    "\n",
    "    for model in money_by_date[-1][1]:\n",
    "        game_money_model = 0\n",
    "        if probs[model][index,0] != 1 and probs[model][index,0] != 0:\n",
    "            bet_value = get_bet_value(probs[model][index,1])\n",
    "            prediction = next(x['pred'][index] for x in results if x['model'] == model)\n",
    "            pred_odds_a, pred_odds_b = get_pred_odds(probs[model][index,1])\n",
    "            game_money_model = check_model_performance_on_game(game, prediction, bet_value, pred_odds_a, pred_odds_b)\n",
    "        if game_money_model != 0:\n",
    "            total_invested[model] += bet_value\n",
    "        money_by_date[-1][1][model] += game_money_model\n",
    "        money_by_date[-1][2][model] += game_money_model\n",
    "\n"
   ]
  },
  {
   "cell_type": "code",
   "execution_count": 798,
   "metadata": {},
   "outputs": [
    {
     "name": "stdout",
     "output_type": "stream",
     "text": [
      "Bets Result: 23/51 => 45.10%\n"
     ]
    }
   ],
   "source": [
    "print(\"Bets Result: {}/{} => {:.2f}%\".format(right, total, right*100/total))"
   ]
  },
  {
   "cell_type": "code",
   "execution_count": 799,
   "metadata": {},
   "outputs": [
    {
     "name": "stdout",
     "output_type": "stream",
     "text": [
      "\n",
      "Profit and margin by model...\n",
      "Model: Voting Classifier \t// Invested: 1920 \t// Won: 337.70 \t// Margin: 17.59%\n",
      "Model: Random Forest \t// Invested: 870 \t// Won: 11.70 \t// Margin: 1.34%\n",
      "Model: Logistic Regression \t// Invested: 920 \t// Won: -53.40 \t// Margin: -5.80%\n",
      "Model: Stochastic Gradient Descent \t// Invested: 1400 \t// Won: 43.00 \t// Margin: 3.07%\n",
      "Model: Naive Bayes \t// Invested: 2160 \t// Won: 76.60 \t// Margin: 3.55%\n",
      "Model: Kernel SVM \t// Invested: 1710 \t// Won: -38.70 \t// Margin: -2.26%\n",
      "Model: KNN \t// Invested: 2660 \t// Won: -42.50 \t// Margin: -1.60%\n"
     ]
    }
   ],
   "source": [
    "print('\\nProfit and margin by model...')\n",
    "for model in money_by_date[-1][1]:\n",
    "    if total_invested[model] > 0:\n",
    "        print('Model: {} \\t// Invested: {} \\t// Won: {:.2f} \\t// Margin: {:.2f}%'.format(model, total_invested[model], money_by_date[-1][2][model], 100*money_by_date[-1][2][model]/total_invested[model]))"
   ]
  },
  {
   "cell_type": "code",
   "execution_count": 800,
   "metadata": {},
   "outputs": [
    {
     "name": "stdout",
     "output_type": "stream",
     "text": [
      "\n",
      "Plotting charts...\n"
     ]
    }
   ],
   "source": [
    "print('\\nPlotting charts...')\n",
    "\n",
    "models_tracking =  [np.array([x[2][model] for x in money_by_date], dtype=np.float32) for model in money_by_date[-1][1]]\n",
    "\n",
    "money_by_date = np.array(money_by_date, dtype=str)\n",
    "correct_bets = list(filter(lambda x: x[3] == 1, bets))\n",
    "missed_bets = list(filter(lambda x: x[3] == 0, bets))\n",
    "correct_bets_odds = np.array(list(map(lambda x: x[1], correct_bets)))\n",
    "missed_bets_odds = np.array(list(map(lambda x: x[1], missed_bets)))\n",
    "correct_bets_home = np.array(list(map(lambda x: x[0], correct_bets)))\n",
    "missed_bets_home = np.array(list(map(lambda x: x[0], missed_bets)))\n",
    "\n",
    "money_by_team = dict(sorted(money_by_team.items(), key=lambda x: x[1]))\n",
    "money_by_team_labels = np.array(list(money_by_team.keys()), dtype=str)\n",
    "money_by_team_values = np.array(list(money_by_team.values()), dtype=np.float32)"
   ]
  },
  {
   "cell_type": "code",
   "execution_count": 801,
   "metadata": {},
   "outputs": [
    {
     "data": {
      "image/png": "[encoded data removed]",
      "text/plain": [
       "<Figure size 432x288 with 1 Axes>"
      ]
     },
     "metadata": {},
     "output_type": "display_data"
    },
    {
     "data": {
      "image/png": "[encoded data removed]",
      "text/plain": [
       "<Figure size 432x288 with 1 Axes>"
      ]
     },
     "metadata": {},
     "output_type": "display_data"
    },
    {
     "data": {
      "image/png": "[encoded data removed]",
      "text/plain": [
       "<Figure size 432x288 with 1 Axes>"
      ]
     },
     "metadata": {},
     "output_type": "display_data"
    },
    {
     "data": {
      "image/png": "[encoded data removed]",
      "text/plain": [
       "<Figure size 432x288 with 1 Axes>"
      ]
     },
     "metadata": {},
     "output_type": "display_data"
    },
    {
     "data": {
      "image/png": "[encoded data removed]",
      "text/plain": [
       "<Figure size 432x288 with 1 Axes>"
      ]
     },
     "metadata": {},
     "output_type": "display_data"
    }
   ],
   "source": [
    "plot_hist('Missed Bets by Odds', 'Odds', 'X Times', missed_bets_odds)\n",
    "\n",
    "plot_hist('Correct Bets by Odds', 'Odds', 'X Times', correct_bets_odds)\n",
    "\n",
    "plot_pie_chart('Correct Bets by Home-Away', ['Home', 'Away'], correct_bets_home)\n",
    "\n",
    "plot_pie_chart('Missed Bets by Home-Away', ['Home', 'Away'], missed_bets_home)\n",
    "\n",
    "plot_bar('Profit by Team', 'Teams', 'Profit', money_by_team_labels, money_by_team_values)"
   ]
  },
  {
   "cell_type": "code",
   "execution_count": 802,
   "metadata": {},
   "outputs": [
    {
     "data": {
      "image/png": "[encoded data removed]",
      "text/plain": [
       "<Figure size 432x288 with 1 Axes>"
      ]
     },
     "metadata": {},
     "output_type": "display_data"
    }
   ],
   "source": [
    "xpoints = money_by_date[:,0].astype(np.datetime64)\n",
    "\n",
    "plt.gca().xaxis.set_major_formatter(mdates.DateFormatter('%Y-%m-%d'))\n",
    "plt.gca().xaxis.set_major_locator(mdates.DayLocator(interval=15))\n",
    "for model in models_tracking:\n",
    "    plt.plot(xpoints, model)\n",
    "plt.plot(xpoints, bets_tracking_odds)\n",
    "\n",
    "title = \"Profit by Date\"\n",
    "plt.legend([x['model'] for x in results] + ['Odds Baseline'], loc=(1.04,0))\n",
    "plt.ylabel(\"Profit($)\")\n",
    "plt.xlabel(\"Date\")\n",
    "plt.title(title)\n",
    "plt.gcf().autofmt_xdate()\n",
    "plt.savefig('charts/{}.png'.format(title.replace(' ','_').lower()), dpi=300)\n",
    "plt.show()"
   ]
  }
 ],
 "metadata": {
  "kernelspec": {
   "display_name": "Python 3",
   "language": "python",
   "name": "python3"
  },
  "language_info": {
   "codemirror_mode": {
    "name": "ipython",
    "version": 3
   },
   "file_extension": ".py",
   "mimetype": "text/x-python",
   "name": "python",
   "nbconvert_exporter": "python",
   "pygments_lexer": "ipython3",
   "version": "3.8.5"
  }
 },
 "nbformat": 4,
 "nbformat_minor": 2
}
